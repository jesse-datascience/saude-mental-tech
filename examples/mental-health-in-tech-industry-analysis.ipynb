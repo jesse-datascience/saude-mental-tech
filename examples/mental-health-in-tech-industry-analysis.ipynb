{
 "cells": [
  {
   "cell_type": "markdown",
   "id": "fd048d28",
   "metadata": {
    "papermill": {
     "duration": 0.009402,
     "end_time": "2023-03-04T17:34:46.697293",
     "exception": false,
     "start_time": "2023-03-04T17:34:46.687891",
     "status": "completed"
    },
    "tags": []
   },
   "source": [
    "# Mental Health in Tech Industry Analysis "
   ]
  },
  {
   "cell_type": "markdown",
   "id": "6e7b2c2c",
   "metadata": {
    "papermill": {
     "duration": 0.006307,
     "end_time": "2023-03-04T17:34:46.710678",
     "exception": false,
     "start_time": "2023-03-04T17:34:46.704371",
     "status": "completed"
    },
    "tags": []
   },
   "source": [
    "Approximately 20% of adults are living with mental illnesses like depression, anxiety, bipolar disorder, or ADHD. Meanwhile, the tech industry is known for its stressful work environment, long hours, pressure to be constantly available, and balancing open-source work with personal time. With these factors blurring the lines between work and personal life, how can we ensure that those most susceptible to mental health challenges aren't left behind in this demanding industry?"
   ]
  },
  {
   "cell_type": "markdown",
   "id": "8ddb6b1f",
   "metadata": {
    "execution": {
     "iopub.execute_input": "2023-03-04T17:21:55.580162Z",
     "iopub.status.busy": "2023-03-04T17:21:55.578959Z",
     "iopub.status.idle": "2023-03-04T17:21:55.587487Z",
     "shell.execute_reply": "2023-03-04T17:21:55.585860Z",
     "shell.execute_reply.started": "2023-03-04T17:21:55.580091Z"
    },
    "papermill": {
     "duration": 0.006302,
     "end_time": "2023-03-04T17:34:46.723949",
     "exception": false,
     "start_time": "2023-03-04T17:34:46.717647",
     "status": "completed"
    },
    "tags": []
   },
   "source": [
    "<img src=\"https://img.freepik.com/premium-photo/human-brain-with-global-network-line-wire-frame-data-business-concept-banner-with-red-light-blue-background-3d-illustration_38364-278.jpg?w=740\" style = \"width : 800px;\"/>\n",
    "\n"
   ]
  },
  {
   "cell_type": "markdown",
   "id": "ed078357",
   "metadata": {
    "papermill": {
     "duration": 0.007201,
     "end_time": "2023-03-04T17:34:46.738283",
     "exception": false,
     "start_time": "2023-03-04T17:34:46.731082",
     "status": "completed"
    },
    "tags": []
   },
   "source": [
    "Mental health is one of the pressing issues that have been in the spotlight in recent years, as it affects not only the individuals but also the companies and society as a whole. \n"
   ]
  },
  {
   "cell_type": "markdown",
   "id": "61af51fc",
   "metadata": {
    "papermill": {
     "duration": 0.006417,
     "end_time": "2023-03-04T17:34:46.751938",
     "exception": false,
     "start_time": "2023-03-04T17:34:46.745521",
     "status": "completed"
    },
    "tags": []
   },
   "source": [
    "## Objective\n",
    "This notebook aim to shed light on the state of mental health from 2014 to 2019 in the industry and offer solutions for a healthier and more sustainable future.\n",
    "\n",
    "The data presented here is sourced from Open Source Mental Illness (OSMI) surveys conducted between 2014 and 2019. These surveys were aimed at assessing people's perceptions of mental health and the prevalence of mental health disorders in the technology industry."
   ]
  },
  {
   "cell_type": "markdown",
   "id": "b98f8081",
   "metadata": {
    "papermill": {
     "duration": 0.006329,
     "end_time": "2023-03-04T17:34:46.765066",
     "exception": false,
     "start_time": "2023-03-04T17:34:46.758737",
     "status": "completed"
    },
    "tags": []
   },
   "source": [
    "# **A first look on the data**\n"
   ]
  },
  {
   "cell_type": "code",
   "execution_count": 1,
   "id": "49108b56",
   "metadata": {
    "execution": {
     "iopub.execute_input": "2023-03-04T17:34:46.782559Z",
     "iopub.status.busy": "2023-03-04T17:34:46.781709Z",
     "iopub.status.idle": "2023-03-04T17:34:48.436291Z",
     "shell.execute_reply": "2023-03-04T17:34:48.434638Z"
    },
    "papermill": {
     "duration": 1.667611,
     "end_time": "2023-03-04T17:34:48.439679",
     "exception": false,
     "start_time": "2023-03-04T17:34:46.772068",
     "status": "completed"
    },
    "tags": []
   },
   "outputs": [],
   "source": [
    "## Importing necessary libraries\n",
    "import numpy as np \n",
    "import pandas as pd \n",
    "import sqlite3 as sql\n",
    "import matplotlib.pyplot as plt\n",
    "import plotly.express as px\n",
    "import plotly.graph_objs as go\n",
    "\n",
    "\n",
    "#Insert path here\n",
    "path = \"/kaggle/input/\"  \n",
    "dataset = path + 'mental-health-in-the-tech-industry/mental_health.sqlite'\n",
    "\n",
    "# connect to SQL database\n",
    "con = sql.connect(dataset) # create connection object to database\n"
   ]
  },
  {
   "cell_type": "markdown",
   "id": "f3b68230",
   "metadata": {
    "papermill": {
     "duration": 0.006838,
     "end_time": "2023-03-04T17:34:48.453616",
     "exception": false,
     "start_time": "2023-03-04T17:34:48.446778",
     "status": "completed"
    },
    "tags": []
   },
   "source": [
    "Understanding the number of survey respondents can provide valuable insights into the level of engagement and interest in this critical topic. In this section, we will explore the level of participation in each survey and analyze how the number of respondents has evolved over time."
   ]
  },
  {
   "cell_type": "code",
   "execution_count": 2,
   "id": "98ce5469",
   "metadata": {
    "execution": {
     "iopub.execute_input": "2023-03-04T17:34:48.470586Z",
     "iopub.status.busy": "2023-03-04T17:34:48.470105Z",
     "iopub.status.idle": "2023-03-04T17:34:48.925642Z",
     "shell.execute_reply": "2023-03-04T17:34:48.924379Z"
    },
    "papermill": {
     "duration": 0.466391,
     "end_time": "2023-03-04T17:34:48.928317",
     "exception": false,
     "start_time": "2023-03-04T17:34:48.461926",
     "status": "completed"
    },
    "tags": []
   },
   "outputs": [
    {
     "data": {
      "text/plain": [
       "Text(0.5, 0, 'SurveyID')"
      ]
     },
     "execution_count": 2,
     "metadata": {},
     "output_type": "execute_result"
    },
    {
     "data": {
      "image/png": "[encoded data removed]",
      "text/plain": [
       "<Figure size 432x288 with 1 Axes>"
      ]
     },
     "metadata": {
      "needs_background": "light"
     },
     "output_type": "display_data"
    }
   ],
   "source": [
    "query = \"\"\"\n",
    "    SELECT \n",
    "        SurveyID,\n",
    "        COUNT() AS No_of_Employee\n",
    "    FROM Answer\n",
    "    GROUP BY SurveyID;\n",
    "\"\"\"\n",
    "Employee_per_survey = pd.read_sql(query, con).astype({\"No_of_Employee\": int})\n",
    "\n",
    "barplot = Employee_per_survey.plot.bar(x='SurveyID',y='No_of_Employee', color = '#7A111E', alpha = 0.85)\n",
    "plt.title('Number of Employee taking the survey reduces with year', fontsize = 15)\n",
    "plt.ylabel('Number of Employee')\n",
    "plt.xlabel('SurveyID')\n",
    "\n"
   ]
  },
  {
   "cell_type": "markdown",
   "id": "81b4526f",
   "metadata": {
    "papermill": {
     "duration": 0.00673,
     "end_time": "2023-03-04T17:34:48.942499",
     "exception": false,
     "start_time": "2023-03-04T17:34:48.935769",
     "status": "completed"
    },
    "tags": []
   },
   "source": [
    "The number of respondents increased from 2014 to 2016 but then decreased in the following years. Let's take a closer look at the age distribution of employees who participated in the mental health surveys conducted between 2014 and 2019."
   ]
  },
  {
   "cell_type": "code",
   "execution_count": 3,
   "id": "b73409f3",
   "metadata": {
    "execution": {
     "iopub.execute_input": "2023-03-04T17:34:48.959045Z",
     "iopub.status.busy": "2023-03-04T17:34:48.958401Z",
     "iopub.status.idle": "2023-03-04T17:34:49.287646Z",
     "shell.execute_reply": "2023-03-04T17:34:49.286723Z"
    },
    "papermill": {
     "duration": 0.340461,
     "end_time": "2023-03-04T17:34:49.290054",
     "exception": false,
     "start_time": "2023-03-04T17:34:48.949593",
     "status": "completed"
    },
    "tags": []
   },
   "outputs": [
    {
     "data": {
      "image/png": "[encoded data removed]",
      "text/plain": [
       "<Figure size 432x288 with 1 Axes>"
      ]
     },
     "metadata": {
      "needs_background": "light"
     },
     "output_type": "display_data"
    }
   ],
   "source": [
    "query = \"\"\"\n",
    "\n",
    "SELECT SurveyID, \n",
    "       CASE \n",
    "            WHEN AnswerText BETWEEN 18 AND 24 THEN '18-24'\n",
    "            WHEN AnswerText BETWEEN 25 AND 34 THEN '25-34'\n",
    "            WHEN AnswerText BETWEEN 35 AND 44 THEN '35-44'\n",
    "            WHEN AnswerText BETWEEN 45 AND 54 THEN '45-54'\n",
    "            WHEN AnswerText BETWEEN 55 AND 64 THEN '55-64'\n",
    "            WHEN AnswerText BETWEEN 65 AND 99 THEN 'Over 65 '\n",
    "        END AS age_group,  \n",
    "    COUNT(*) AS count\n",
    "FROM Answer\n",
    "WHERE SurveyID IN (2014, 2016, 2017, 2018, 2019)\n",
    "      AND QuestionID=1\n",
    "      AND AnswerText > 18\n",
    "      \n",
    "GROUP BY SurveyID, age_group\n",
    "ORDER BY SurveyID, age_group; \n",
    "\"\"\"\n",
    "Age_Survey = pd.read_sql(query, con)\n",
    "# Get a list of unique age groups in the dataframe\n",
    "SurveyID_groups = Age_Survey['SurveyID'].unique()\n",
    "\n",
    "# Create a figure and axis object\n",
    "fig, ax = plt.subplots()\n",
    "\n",
    "# Plot a line for each age group\n",
    "for SurveyID_group in SurveyID_groups:\n",
    "    ax.plot(Age_Survey.loc[Age_Survey['SurveyID'] == SurveyID_group, 'age_group'], Age_Survey.loc[Age_Survey['SurveyID'] == SurveyID_group, 'count'], label=SurveyID_group)\n",
    "\n",
    "# Set the x and y axis labels\n",
    "ax.set_xlabel('Age Group')\n",
    "ax.set_ylabel('Count')\n",
    "\n",
    "# Set the title of the plot\n",
    "ax.set_title('Count of Users by Age Group',fontsize = 15)\n",
    "\n",
    "# Show the legend\n",
    "ax.legend()\n",
    "\n",
    "# show graph\n",
    "plt.show()"
   ]
  },
  {
   "cell_type": "markdown",
   "id": "a855052c",
   "metadata": {
    "papermill": {
     "duration": 0.007359,
     "end_time": "2023-03-04T17:34:49.305290",
     "exception": false,
     "start_time": "2023-03-04T17:34:49.297931",
     "status": "completed"
    },
    "tags": []
   },
   "source": [
    "The data is divided into six age groups ranging from 18-24 to over 65, and each survey has a different count for each age group. The highest count is from the age group of 25-34 in each survey.\n",
    "\n",
    "### Exploring Numbers and Possible Causes \n",
    "\n",
    "The dataset captures responses from 80 different countries, with the most responses coming from the USA (2604)! My focus will be on mental health in the tech industry in the USA. The butterfly bar chart is based on data from mental health surveys conducted by tech companies, and sheds light on the underrepresentation of women in the industry."
   ]
  },
  {
   "cell_type": "code",
   "execution_count": 4,
   "id": "a2e52ac8",
   "metadata": {
    "execution": {
     "iopub.execute_input": "2023-03-04T17:34:49.323043Z",
     "iopub.status.busy": "2023-03-04T17:34:49.322413Z",
     "iopub.status.idle": "2023-03-04T17:34:49.672163Z",
     "shell.execute_reply": "2023-03-04T17:34:49.670979Z"
    },
    "papermill": {
     "duration": 0.361989,
     "end_time": "2023-03-04T17:34:49.674905",
     "exception": false,
     "start_time": "2023-03-04T17:34:49.312916",
     "status": "completed"
    },
    "tags": []
   },
   "outputs": [
    {
     "data": {
      "image/png": "[encoded data removed]",
      "text/plain": [
       "<Figure size 432x288 with 2 Axes>"
      ]
     },
     "metadata": {
      "needs_background": "light"
     },
     "output_type": "display_data"
    }
   ],
   "source": [
    "#Howevevr, because it is a readonly data we can not change text there to account for Country name we need to consider both united states and united states of america together\n",
    "\n",
    "query = \"\"\"\n",
    "SELECT SurveyID, \n",
    "       SUM(CASE WHEN AnswerText = 'male' OR AnswerText = 'Male' THEN 1 ELSE 0 END) AS male_count,\n",
    "       SUM(CASE WHEN AnswerText = 'female' OR AnswerText = 'Female'THEN 1 ELSE 0 END) AS female_count\n",
    "FROM Answer\n",
    "WHERE     QuestionID == 2 \n",
    "      OR (QuestionID == 9 AND AnswerText == 1 ) \n",
    "      OR (QuestionID == 3 AND AnswerText =='United States of America' OR AnswerText =='United States')\n",
    "GROUP BY SurveyID\n",
    "\"\"\"\n",
    "#Question 2: what is your gender?\n",
    "#Question 9: Is your employer primarily a tech company/organization?\n",
    "#Question 3: What country do you live in?\n",
    "df=pd.read_sql(query, con)\n",
    "\n",
    "pos = np.arange(len(df)) + .5 # bars centered on the y axis\n",
    "\n",
    "fig, (ax_left, ax_right) = plt.subplots(ncols=2)\n",
    "\n",
    "ax_left.barh(pos, df['male_count'], align='center', facecolor='#1C5894')\n",
    "\n",
    "ax_left.set_xlim((0,1100))\n",
    "\n",
    "ax_left.set_yticks([])\n",
    "\n",
    "ax_left.set_xlabel('male count')\n",
    "\n",
    "ax_left.invert_xaxis()\n",
    "\n",
    "ax_right.barh(pos, df['female_count'], align='center', facecolor='#B2182B')\n",
    "\n",
    "ax_right.set_xlim((0,1000))\n",
    "\n",
    "ax_right.set_yticks(pos)\n",
    "\n",
    "ax_right.set_yticklabels(df['SurveyID'].values, ha='center', x=-0.06)\n",
    "\n",
    "ax_right.set_xlabel('Female count')\n",
    "\n",
    "plt.title('Gender in Tech: A Butterfly Bar Chart Highlighting the Imbalance through years',fontsize = 15)\n",
    "\n",
    "plt.tick_params(left = False)\n",
    "\n",
    "plt.show()"
   ]
  },
  {
   "cell_type": "markdown",
   "id": "e83ef9d7",
   "metadata": {
    "papermill": {
     "duration": 0.007718,
     "end_time": "2023-03-04T17:34:49.691625",
     "exception": false,
     "start_time": "2023-03-04T17:34:49.683907",
     "status": "completed"
    },
    "tags": []
   },
   "source": [
    "This data provides a breakdown of **the number of employees who took part in the mental health survey, organized by state and year**, from 2016 to 2019."
   ]
  },
  {
   "cell_type": "code",
   "execution_count": 5,
   "id": "dd4b8ef2",
   "metadata": {
    "execution": {
     "iopub.execute_input": "2023-03-04T17:34:49.709437Z",
     "iopub.status.busy": "2023-03-04T17:34:49.709020Z",
     "iopub.status.idle": "2023-03-04T17:34:51.067113Z",
     "shell.execute_reply": "2023-03-04T17:34:51.065263Z"
    },
    "papermill": {
     "duration": 1.370301,
     "end_time": "2023-03-04T17:34:51.069831",
     "exception": false,
     "start_time": "2023-03-04T17:34:49.699530",
     "status": "completed"
    },
    "tags": []
   },
   "outputs": [
    {
     "data": {
      "text/html": [
       "        <script type=\"text/javascript\">\n",
       "        window.PlotlyConfig = {MathJaxConfig: 'local'};\n",
       "        if (window.MathJax && window.MathJax.Hub && window.MathJax.Hub.Config) {window.MathJax.Hub.Config({SVG: {font: \"STIX-Web\"}});}\n",
       "        if (typeof require !== 'undefined') {\n",
       "        require.undef(\"plotly\");\n",
       "        requirejs.config({\n",
       "            paths: {\n",
       "                'plotly': ['https://cdn.plot.ly/plotly-2.18.0.min']\n",
       "            }\n",
       "        });\n",
       "        require(['plotly'], function(Plotly) {\n",
       "            window._Plotly = Plotly;\n",
       "        });\n",
       "        }\n",
       "        </script>\n",
       "        "
      ]
     },
     "metadata": {},
     "output_type": "display_data"
    },
    {
     "data": {
      "text/html": [
       "<div>                            <div id=\"d33f92f9-1dfa-47af-abe2-441f2f2e8e1e\" class=\"plotly-graph-div\" style=\"height:525px; width:100%;\"></div>            <script type=\"text/javascript\">                require([\"plotly\"], function(Plotly) {                    window.PLOTLYENV=window.PLOTLYENV || {};                                    if (document.getElementById(\"d33f92f9-1dfa-47af-abe2-441f2f2e8e1e\")) {                    Plotly.newPlot(                        \"d33f92f9-1dfa-47af-abe2-441f2f2e8e1e\",                        [{\"coloraxis\":\"coloraxis\",\"geo\":\"geo\",\"hovertemplate\":\"<b>%{hovertext}</b><br><br>year=2016<br>StateCode=%{location}<br>Employee_count=%{z}<extra></extra>\",\"hovertext\":[1.0,1.0,8.0,1.0,1.0,4.0,3.0,13.0,8.0,3.0,3.0,1.0,1.0,2.0,6.0,6.0,9.0,6.0,3.0,3.0,2.0,6.0,6.0,3.0,8.0,2.0,1.0,7.0,1.0,1.0,13.0,12.0,2.0,2.0,4.0,2.0],\"locationmode\":\"USA-states\",\"locations\":[\"AL\",\"AZ\",\"CA\",\"CO\",\"CT\",\"FL\",\"GA\",\"IL\",\"IN\",\"IA\",\"KS\",\"LA\",\"ME\",\"MD\",\"MA\",\"MI\",\"MN\",\"MO\",\"NE\",\"NH\",\"NJ\",\"NY\",\"NC\",\"ND\",\"OH\",\"OK\",\"OR\",\"PA\",\"RI\",\"SD\",\"TN\",\"TX\",\"UT\",\"VA\",\"WA\",\"WI\"],\"name\":\"\",\"z\":[1,1,8,1,1,4,3,13,8,3,3,1,1,2,6,6,9,6,3,3,2,6,6,3,8,2,1,7,1,1,13,12,2,2,4,2],\"type\":\"choropleth\"}],                        {\"template\":{\"data\":{\"histogram2dcontour\":[{\"type\":\"histogram2dcontour\",\"colorbar\":{\"outlinewidth\":0,\"ticks\":\"\"},\"colorscale\":[[0.0,\"#0d0887\"],[0.1111111111111111,\"#46039f\"],[0.2222222222222222,\"#7201a8\"],[0.3333333333333333,\"#9c179e\"],[0.4444444444444444,\"#bd3786\"],[0.5555555555555556,\"#d8576b\"],[0.6666666666666666,\"#ed7953\"],[0.7777777777777778,\"#fb9f3a\"],[0.8888888888888888,\"#fdca26\"],[1.0,\"#f0f921\"]]}],\"choropleth\":[{\"type\":\"choropleth\",\"colorbar\":{\"outlinewidth\":0,\"ticks\":\"\"}}],\"histogram2d\":[{\"type\":\"histogram2d\",\"colorbar\":{\"outlinewidth\":0,\"ticks\":\"\"},\"colorscale\":[[0.0,\"#0d0887\"],[0.1111111111111111,\"#46039f\"],[0.2222222222222222,\"#7201a8\"],[0.3333333333333333,\"#9c179e\"],[0.4444444444444444,\"#bd3786\"],[0.5555555555555556,\"#d8576b\"],[0.6666666666666666,\"#ed7953\"],[0.7777777777777778,\"#fb9f3a\"],[0.8888888888888888,\"#fdca26\"],[1.0,\"#f0f921\"]]}],\"heatmap\":[{\"type\":\"heatmap\",\"colorbar\":{\"outlinewidth\":0,\"ticks\":\"\"},\"colorscale\":[[0.0,\"#0d0887\"],[0.1111111111111111,\"#46039f\"],[0.2222222222222222,\"#7201a8\"],[0.3333333333333333,\"#9c179e\"],[0.4444444444444444,\"#bd3786\"],[0.5555555555555556,\"#d8576b\"],[0.6666666666666666,\"#ed7953\"],[0.7777777777777778,\"#fb9f3a\"],[0.8888888888888888,\"#fdca26\"],[1.0,\"#f0f921\"]]}],\"heatmapgl\":[{\"type\":\"heatmapgl\",\"colorbar\":{\"outlinewidth\":0,\"ticks\":\"\"},\"colorscale\":[[0.0,\"#0d0887\"],[0.1111111111111111,\"#46039f\"],[0.2222222222222222,\"#7201a8\"],[0.3333333333333333,\"#9c179e\"],[0.4444444444444444,\"#bd3786\"],[0.5555555555555556,\"#d8576b\"],[0.6666666666666666,\"#ed7953\"],[0.7777777777777778,\"#fb9f3a\"],[0.8888888888888888,\"#fdca26\"],[1.0,\"#f0f921\"]]}],\"contourcarpet\":[{\"type\":\"contourcarpet\",\"colorbar\":{\"outlinewidth\":0,\"ticks\":\"\"}}],\"contour\":[{\"type\":\"contour\",\"colorbar\":{\"outlinewidth\":0,\"ticks\":\"\"},\"colorscale\":[[0.0,\"#0d0887\"],[0.1111111111111111,\"#46039f\"],[0.2222222222222222,\"#7201a8\"],[0.3333333333333333,\"#9c179e\"],[0.4444444444444444,\"#bd3786\"],[0.5555555555555556,\"#d8576b\"],[0.6666666666666666,\"#ed7953\"],[0.7777777777777778,\"#fb9f3a\"],[0.8888888888888888,\"#fdca26\"],[1.0,\"#f0f921\"]]}],\"surface\":[{\"type\":\"surface\",\"colorbar\":{\"outlinewidth\":0,\"ticks\":\"\"},\"colorscale\":[[0.0,\"#0d0887\"],[0.1111111111111111,\"#46039f\"],[0.2222222222222222,\"#7201a8\"],[0.3333333333333333,\"#9c179e\"],[0.4444444444444444,\"#bd3786\"],[0.5555555555555556,\"#d8576b\"],[0.6666666666666666,\"#ed7953\"],[0.7777777777777778,\"#fb9f3a\"],[0.8888888888888888,\"#fdca26\"],[1.0,\"#f0f921\"]]}],\"mesh3d\":[{\"type\":\"mesh3d\",\"colorbar\":{\"outlinewidth\":0,\"ticks\":\"\"}}],\"scatter\":[{\"fillpattern\":{\"fillmode\":\"overlay\",\"size\":10,\"solidity\":0.2},\"type\":\"scatter\"}],\"parcoords\":[{\"type\":\"parcoords\",\"line\":{\"colorbar\":{\"outlinewidth\":0,\"ticks\":\"\"}}}],\"scatterpolargl\":[{\"type\":\"scatterpolargl\",\"marker\":{\"colorbar\":{\"outlinewidth\":0,\"ticks\":\"\"}}}],\"bar\":[{\"error_x\":{\"color\":\"#2a3f5f\"},\"error_y\":{\"color\":\"#2a3f5f\"},\"marker\":{\"line\":{\"color\":\"#E5ECF6\",\"width\":0.5},\"pattern\":{\"fillmode\":\"overlay\",\"size\":10,\"solidity\":0.2}},\"type\":\"bar\"}],\"scattergeo\":[{\"type\":\"scattergeo\",\"marker\":{\"colorbar\":{\"outlinewidth\":0,\"ticks\":\"\"}}}],\"scatterpolar\":[{\"type\":\"scatterpolar\",\"marker\":{\"colorbar\":{\"outlinewidth\":0,\"ticks\":\"\"}}}],\"histogram\":[{\"marker\":{\"pattern\":{\"fillmode\":\"overlay\",\"size\":10,\"solidity\":0.2}},\"type\":\"histogram\"}],\"scattergl\":[{\"type\":\"scattergl\",\"marker\":{\"colorbar\":{\"outlinewidth\":0,\"ticks\":\"\"}}}],\"scatter3d\":[{\"type\":\"scatter3d\",\"line\":{\"colorbar\":{\"outlinewidth\":0,\"ticks\":\"\"}},\"marker\":{\"colorbar\":{\"outlinewidth\":0,\"ticks\":\"\"}}}],\"scattermapbox\":[{\"type\":\"scattermapbox\",\"marker\":{\"colorbar\":{\"outlinewidth\":0,\"ticks\":\"\"}}}],\"scatterternary\":[{\"type\":\"scatterternary\",\"marker\":{\"colorbar\":{\"outlinewidth\":0,\"ticks\":\"\"}}}],\"scattercarpet\":[{\"type\":\"scattercarpet\",\"marker\":{\"colorbar\":{\"outlinewidth\":0,\"ticks\":\"\"}}}],\"carpet\":[{\"aaxis\":{\"endlinecolor\":\"#2a3f5f\",\"gridcolor\":\"white\",\"linecolor\":\"white\",\"minorgridcolor\":\"white\",\"startlinecolor\":\"#2a3f5f\"},\"baxis\":{\"endlinecolor\":\"#2a3f5f\",\"gridcolor\":\"white\",\"linecolor\":\"white\",\"minorgridcolor\":\"white\",\"startlinecolor\":\"#2a3f5f\"},\"type\":\"carpet\"}],\"table\":[{\"cells\":{\"fill\":{\"color\":\"#EBF0F8\"},\"line\":{\"color\":\"white\"}},\"header\":{\"fill\":{\"color\":\"#C8D4E3\"},\"line\":{\"color\":\"white\"}},\"type\":\"table\"}],\"barpolar\":[{\"marker\":{\"line\":{\"color\":\"#E5ECF6\",\"width\":0.5},\"pattern\":{\"fillmode\":\"overlay\",\"size\":10,\"solidity\":0.2}},\"type\":\"barpolar\"}],\"pie\":[{\"automargin\":true,\"type\":\"pie\"}]},\"layout\":{\"autotypenumbers\":\"strict\",\"colorway\":[\"#636efa\",\"#EF553B\",\"#00cc96\",\"#ab63fa\",\"#FFA15A\",\"#19d3f3\",\"#FF6692\",\"#B6E880\",\"#FF97FF\",\"#FECB52\"],\"font\":{\"color\":\"#2a3f5f\"},\"hovermode\":\"closest\",\"hoverlabel\":{\"align\":\"left\"},\"paper_bgcolor\":\"white\",\"plot_bgcolor\":\"#E5ECF6\",\"polar\":{\"bgcolor\":\"#E5ECF6\",\"angularaxis\":{\"gridcolor\":\"white\",\"linecolor\":\"white\",\"ticks\":\"\"},\"radialaxis\":{\"gridcolor\":\"white\",\"linecolor\":\"white\",\"ticks\":\"\"}},\"ternary\":{\"bgcolor\":\"#E5ECF6\",\"aaxis\":{\"gridcolor\":\"white\",\"linecolor\":\"white\",\"ticks\":\"\"},\"baxis\":{\"gridcolor\":\"white\",\"linecolor\":\"white\",\"ticks\":\"\"},\"caxis\":{\"gridcolor\":\"white\",\"linecolor\":\"white\",\"ticks\":\"\"}},\"coloraxis\":{\"colorbar\":{\"outlinewidth\":0,\"ticks\":\"\"}},\"colorscale\":{\"sequential\":[[0.0,\"#0d0887\"],[0.1111111111111111,\"#46039f\"],[0.2222222222222222,\"#7201a8\"],[0.3333333333333333,\"#9c179e\"],[0.4444444444444444,\"#bd3786\"],[0.5555555555555556,\"#d8576b\"],[0.6666666666666666,\"#ed7953\"],[0.7777777777777778,\"#fb9f3a\"],[0.8888888888888888,\"#fdca26\"],[1.0,\"#f0f921\"]],\"sequentialminus\":[[0.0,\"#0d0887\"],[0.1111111111111111,\"#46039f\"],[0.2222222222222222,\"#7201a8\"],[0.3333333333333333,\"#9c179e\"],[0.4444444444444444,\"#bd3786\"],[0.5555555555555556,\"#d8576b\"],[0.6666666666666666,\"#ed7953\"],[0.7777777777777778,\"#fb9f3a\"],[0.8888888888888888,\"#fdca26\"],[1.0,\"#f0f921\"]],\"diverging\":[[0,\"#8e0152\"],[0.1,\"#c51b7d\"],[0.2,\"#de77ae\"],[0.3,\"#f1b6da\"],[0.4,\"#fde0ef\"],[0.5,\"#f7f7f7\"],[0.6,\"#e6f5d0\"],[0.7,\"#b8e186\"],[0.8,\"#7fbc41\"],[0.9,\"#4d9221\"],[1,\"#276419\"]]},\"xaxis\":{\"gridcolor\":\"white\",\"linecolor\":\"white\",\"ticks\":\"\",\"title\":{\"standoff\":15},\"zerolinecolor\":\"white\",\"automargin\":true,\"zerolinewidth\":2},\"yaxis\":{\"gridcolor\":\"white\",\"linecolor\":\"white\",\"ticks\":\"\",\"title\":{\"standoff\":15},\"zerolinecolor\":\"white\",\"automargin\":true,\"zerolinewidth\":2},\"scene\":{\"xaxis\":{\"backgroundcolor\":\"#E5ECF6\",\"gridcolor\":\"white\",\"linecolor\":\"white\",\"showbackground\":true,\"ticks\":\"\",\"zerolinecolor\":\"white\",\"gridwidth\":2},\"yaxis\":{\"backgroundcolor\":\"#E5ECF6\",\"gridcolor\":\"white\",\"linecolor\":\"white\",\"showbackground\":true,\"ticks\":\"\",\"zerolinecolor\":\"white\",\"gridwidth\":2},\"zaxis\":{\"backgroundcolor\":\"#E5ECF6\",\"gridcolor\":\"white\",\"linecolor\":\"white\",\"showbackground\":true,\"ticks\":\"\",\"zerolinecolor\":\"white\",\"gridwidth\":2}},\"shapedefaults\":{\"line\":{\"color\":\"#2a3f5f\"}},\"annotationdefaults\":{\"arrowcolor\":\"#2a3f5f\",\"arrowhead\":0,\"arrowwidth\":1},\"geo\":{\"bgcolor\":\"white\",\"landcolor\":\"#E5ECF6\",\"subunitcolor\":\"white\",\"showland\":true,\"showlakes\":true,\"lakecolor\":\"white\"},\"title\":{\"x\":0.05},\"mapbox\":{\"style\":\"light\"}}},\"geo\":{\"domain\":{\"x\":[0.0,1.0],\"y\":[0.0,1.0]},\"center\":{},\"scope\":\"usa\"},\"coloraxis\":{\"colorbar\":{\"title\":{\"text\":\"Employee_count\"}},\"colorscale\":[[0.0,\"rgb(255,245,240)\"],[0.125,\"rgb(254,224,210)\"],[0.25,\"rgb(252,187,161)\"],[0.375,\"rgb(252,146,114)\"],[0.5,\"rgb(251,106,74)\"],[0.625,\"rgb(239,59,44)\"],[0.75,\"rgb(203,24,29)\"],[0.875,\"rgb(165,15,21)\"],[1.0,\"rgb(103,0,13)\"]]},\"legend\":{\"tracegroupgap\":0},\"margin\":{\"t\":60},\"updatemenus\":[{\"buttons\":[{\"args\":[null,{\"frame\":{\"duration\":500,\"redraw\":true},\"mode\":\"immediate\",\"fromcurrent\":true,\"transition\":{\"duration\":500,\"easing\":\"linear\"}}],\"label\":\"&#9654;\",\"method\":\"animate\"},{\"args\":[[null],{\"frame\":{\"duration\":0,\"redraw\":true},\"mode\":\"immediate\",\"fromcurrent\":true,\"transition\":{\"duration\":0,\"easing\":\"linear\"}}],\"label\":\"&#9724;\",\"method\":\"animate\"}],\"direction\":\"left\",\"pad\":{\"r\":10,\"t\":70},\"showactive\":false,\"type\":\"buttons\",\"x\":0.1,\"xanchor\":\"right\",\"y\":0,\"yanchor\":\"top\"}],\"sliders\":[{\"active\":0,\"currentvalue\":{\"prefix\":\"year=\"},\"len\":0.9,\"pad\":{\"b\":10,\"t\":60},\"steps\":[{\"args\":[[\"2016\"],{\"frame\":{\"duration\":0,\"redraw\":true},\"mode\":\"immediate\",\"fromcurrent\":true,\"transition\":{\"duration\":0,\"easing\":\"linear\"}}],\"label\":\"2016\",\"method\":\"animate\"},{\"args\":[[\"2017\"],{\"frame\":{\"duration\":0,\"redraw\":true},\"mode\":\"immediate\",\"fromcurrent\":true,\"transition\":{\"duration\":0,\"easing\":\"linear\"}}],\"label\":\"2017\",\"method\":\"animate\"},{\"args\":[[\"2018\"],{\"frame\":{\"duration\":0,\"redraw\":true},\"mode\":\"immediate\",\"fromcurrent\":true,\"transition\":{\"duration\":0,\"easing\":\"linear\"}}],\"label\":\"2018\",\"method\":\"animate\"},{\"args\":[[\"2019\"],{\"frame\":{\"duration\":0,\"redraw\":true},\"mode\":\"immediate\",\"fromcurrent\":true,\"transition\":{\"duration\":0,\"easing\":\"linear\"}}],\"label\":\"2019\",\"method\":\"animate\"}],\"x\":0.1,\"xanchor\":\"left\",\"y\":0,\"yanchor\":\"top\"}],\"title\":{\"text\":\"Number of Employees who took the survey by State \",\"y\":0.95,\"x\":0.5,\"xanchor\":\"center\",\"yanchor\":\"top\"}},                        {\"responsive\": true}                    ).then(function(){\n",
       "                            Plotly.addFrames('d33f92f9-1dfa-47af-abe2-441f2f2e8e1e', [{\"data\":[{\"coloraxis\":\"coloraxis\",\"geo\":\"geo\",\"hovertemplate\":\"<b>%{hovertext}</b><br><br>year=2016<br>StateCode=%{location}<br>Employee_count=%{z}<extra></extra>\",\"hovertext\":[1.0,1.0,8.0,1.0,1.0,4.0,3.0,13.0,8.0,3.0,3.0,1.0,1.0,2.0,6.0,6.0,9.0,6.0,3.0,3.0,2.0,6.0,6.0,3.0,8.0,2.0,1.0,7.0,1.0,1.0,13.0,12.0,2.0,2.0,4.0,2.0],\"locationmode\":\"USA-states\",\"locations\":[\"AL\",\"AZ\",\"CA\",\"CO\",\"CT\",\"FL\",\"GA\",\"IL\",\"IN\",\"IA\",\"KS\",\"LA\",\"ME\",\"MD\",\"MA\",\"MI\",\"MN\",\"MO\",\"NE\",\"NH\",\"NJ\",\"NY\",\"NC\",\"ND\",\"OH\",\"OK\",\"OR\",\"PA\",\"RI\",\"SD\",\"TN\",\"TX\",\"UT\",\"VA\",\"WA\",\"WI\"],\"name\":\"\",\"z\":[1,1,8,1,1,4,3,13,8,3,3,1,1,2,6,6,9,6,3,3,2,6,6,3,8,2,1,7,1,1,13,12,2,2,4,2],\"type\":\"choropleth\"}],\"name\":\"2016\"},{\"data\":[{\"coloraxis\":\"coloraxis\",\"geo\":\"geo\",\"hovertemplate\":\"<b>%{hovertext}</b><br><br>year=2017<br>StateCode=%{location}<br>Employee_count=%{z}<extra></extra>\",\"hovertext\":[4.0,3.0,49.0,4.0,1.0,3.0,11.0,57.0,28.0,5.0,2.0,2.0,1.0,9.0,14.0,13.0,15.0,9.0,16.0,2.0,5.0,12.0,6.0,1.0,35.0,13.0,8.0,1.0,20.0,12.0,6.0,8.0,24.0,6.0,1.0,2.0,2.0,1.0,2.0,1.0,1.0],\"locationmode\":\"USA-states\",\"locations\":[\"AL\",\"AZ\",\"CA\",\"CO\",\"CT\",\"FL\",\"GA\",\"IL\",\"IN\",\"IA\",\"KS\",\"LA\",\"ME\",\"MD\",\"MA\",\"MI\",\"MN\",\"MO\",\"NE\",\"NH\",\"NJ\",\"NY\",\"NC\",\"ND\",\"OH\",\"OR\",\"PA\",\"SD\",\"TN\",\"TX\",\"UT\",\"VA\",\"WA\",\"WI\",\"AK\",\"ID\",\"KY\",\"MT\",\"NV\",\"NM\",\"SC\"],\"name\":\"\",\"z\":[4,3,49,4,1,3,11,57,28,5,2,2,1,9,14,13,15,9,16,2,5,12,6,1,35,13,8,1,20,12,6,8,24,6,1,2,2,1,2,1,1],\"type\":\"choropleth\"}],\"name\":\"2017\"},{\"data\":[{\"coloraxis\":\"coloraxis\",\"geo\":\"geo\",\"hovertemplate\":\"<b>%{hovertext}</b><br><br>year=2018<br>StateCode=%{location}<br>Employee_count=%{z}<extra></extra>\",\"hovertext\":[1.0,1.0,28.0,2.0,1.0,10.0,5.0,42.0,4.0,3.0,3.0,1.0,12.0,13.0,12.0,4.0,11.0,5.0,6.0,12.0,3.0,2.0,7.0,9.0,15.0,1.0,13.0,12.0,1.0,1.0,15.0,8.0,1.0,2.0,1.0,1.0,2.0],\"locationmode\":\"USA-states\",\"locations\":[\"AL\",\"AZ\",\"CA\",\"CO\",\"CT\",\"FL\",\"GA\",\"IL\",\"IN\",\"IA\",\"KS\",\"MD\",\"MA\",\"MI\",\"MN\",\"MO\",\"NE\",\"NH\",\"NJ\",\"NY\",\"NC\",\"ND\",\"OH\",\"OR\",\"PA\",\"RI\",\"TN\",\"TX\",\"UT\",\"VA\",\"WA\",\"WI\",\"ID\",\"KY\",\"NV\",\"NM\",\"SC\"],\"name\":\"\",\"z\":[1,1,28,2,1,10,5,42,4,3,3,1,12,13,12,4,11,5,6,12,3,2,7,9,15,1,13,12,1,1,15,8,1,2,1,1,2],\"type\":\"choropleth\"}],\"name\":\"2018\"},{\"data\":[{\"coloraxis\":\"coloraxis\",\"geo\":\"geo\",\"hovertemplate\":\"<b>%{hovertext}</b><br><br>year=2019<br>StateCode=%{location}<br>Employee_count=%{z}<extra></extra>\",\"hovertext\":[1.0,2.0,17.0,12.0,1.0,3.0,3.0,6.0,3.0,1.0,5.0,1.0,4.0,3.0,6.0,3.0,1.0,17.0,2.0,12.0,4.0,7.0,1.0,4.0,4.0,12.0,4.0,3.0,7.0,11.0,2.0,1.0,1.0,1.0,1.0],\"locationmode\":\"USA-states\",\"locations\":[\"AL\",\"AZ\",\"CA\",\"CO\",\"CT\",\"FL\",\"GA\",\"IL\",\"IN\",\"IA\",\"KS\",\"ME\",\"MD\",\"MA\",\"MI\",\"MN\",\"MO\",\"NE\",\"NJ\",\"NY\",\"NC\",\"OH\",\"OK\",\"OR\",\"PA\",\"TN\",\"TX\",\"UT\",\"VA\",\"WA\",\"WI\",\"ID\",\"SC\",\"VT\",\"WY\"],\"name\":\"\",\"z\":[1,2,17,12,1,3,3,6,3,1,5,1,4,3,6,3,1,17,2,12,4,7,1,4,4,12,4,3,7,11,2,1,1,1,1],\"type\":\"choropleth\"}],\"name\":\"2019\"}]);\n",
       "                        }).then(function(){\n",
       "                            \n",
       "var gd = document.getElementById('d33f92f9-1dfa-47af-abe2-441f2f2e8e1e');\n",
       "var x = new MutationObserver(function (mutations, observer) {{\n",
       "        var display = window.getComputedStyle(gd).display;\n",
       "        if (!display || display === 'none') {{\n",
       "            console.log([gd, 'removed!']);\n",
       "            Plotly.purge(gd);\n",
       "            observer.disconnect();\n",
       "        }}\n",
       "}});\n",
       "\n",
       "// Listen for the removal of the full notebook cells\n",
       "var notebookContainer = gd.closest('#notebook-container');\n",
       "if (notebookContainer) {{\n",
       "    x.observe(notebookContainer, {childList: true});\n",
       "}}\n",
       "\n",
       "// Listen for the clearing of the current output cell\n",
       "var outputEl = gd.closest('.output');\n",
       "if (outputEl) {{\n",
       "    x.observe(outputEl, {childList: true});\n",
       "}}\n",
       "\n",
       "                        })                };                });            </script>        </div>"
      ]
     },
     "metadata": {},
     "output_type": "display_data"
    }
   ],
   "source": [
    "\n",
    "query = \"\"\"\n",
    "SELECT year, state, COUNT(*) AS Employee_count\n",
    "FROM (\n",
    " SELECT UserID,SurveyID AS year,\n",
    "        MAX(CASE WHEN QuestionID == 4  THEN AnswerText END) AS state,\n",
    "        MAX(CASE WHEN (QuestionID == 5  AND AnswerText !=1)  THEN AnswerText END) AS Self_Employed,\n",
    "        MAX(CASE WHEN QuestionID == 13  THEN AnswerText END) AS Tech_company,\n",
    "        COUNT (*) as count\n",
    "\n",
    " FROM Answer\n",
    " WHERE   QuestionID == 4  AND AnswerText !=-1\n",
    "         OR (QuestionID == 5  )\n",
    "         OR (QuestionID == 13 AND AnswerText == 1 ) \n",
    "GROUP BY UserID\n",
    "HAVING state IS NOT NULL\n",
    "       AND Self_Employed IS NOT NULL\n",
    "       AND Tech_company IS NOT NULL\n",
    ")\n",
    "\n",
    "GROUP BY year, state\n",
    "ORDER BY year\n",
    "\"\"\"\n",
    "#Question 4 which state ? remove -1 (outside USA)\n",
    "#Question 5 are you self employed\n",
    "#Question 9: Is your employer primarily a tech company/organization?\n",
    "\n",
    "df=pd.read_sql(query, con)\n",
    "\n",
    "state_appreviation = pd.read_csv('/kaggle/input/states/stateAPP1.csv')\n",
    "state_appreviation = state_appreviation.applymap(lambda x: x.strip() if isinstance(x, str) else x)\n",
    "merged_df = pd.merge(df, state_appreviation ,on=\"state\")\n",
    "\n",
    "fig = px.choropleth(merged_df,\n",
    "                    locations=\"StateCode\",\n",
    "                    locationmode=\"USA-states\",\n",
    "                    color=\"Employee_count\", \n",
    "                    hover_name = \"Employee_count\",\n",
    "                    color_continuous_scale =px.colors.sequential.Reds,\n",
    "                    animation_frame=\"year\",\n",
    "                    scope=\"usa\"\n",
    "               )\n",
    "\n",
    "fig.update_layout(\n",
    "    title={\n",
    "        'text':\"Number of Employees who took the survey by State \",\n",
    "        'y':0.95,\n",
    "        'x':0.5,\n",
    "        'xanchor': 'center',\n",
    "        'yanchor': 'top'\n",
    "    }\n",
    ")\n",
    "fig.show()"
   ]
  },
  {
   "cell_type": "markdown",
   "id": "8aec10a3",
   "metadata": {
    "papermill": {
     "duration": 0.008022,
     "end_time": "2023-03-04T17:34:51.087086",
     "exception": false,
     "start_time": "2023-03-04T17:34:51.079064",
     "status": "completed"
    },
    "tags": []
   },
   "source": [
    "# **Analysing the data**\n",
    "\n",
    "Let's explore the prevalence of mental health issues in the tech industry and compare it to other industries - **how do the numbers stack up and what does this mean for employee well-being and the companies they work for?**"
   ]
  },
  {
   "cell_type": "code",
   "execution_count": 6,
   "id": "6ee5ff07",
   "metadata": {
    "execution": {
     "iopub.execute_input": "2023-03-04T17:34:51.106848Z",
     "iopub.status.busy": "2023-03-04T17:34:51.106355Z",
     "iopub.status.idle": "2023-03-04T17:34:51.246462Z",
     "shell.execute_reply": "2023-03-04T17:34:51.245519Z"
    },
    "papermill": {
     "duration": 0.153482,
     "end_time": "2023-03-04T17:34:51.249032",
     "exception": false,
     "start_time": "2023-03-04T17:34:51.095550",
     "status": "completed"
    },
    "tags": []
   },
   "outputs": [
    {
     "data": {
      "text/html": [
       "<div>                            <div id=\"3bcbba6f-7ec1-4353-ba3a-edb1fdf07ab7\" class=\"plotly-graph-div\" style=\"height:525px; width:100%;\"></div>            <script type=\"text/javascript\">                require([\"plotly\"], function(Plotly) {                    window.PLOTLYENV=window.PLOTLYENV || {};                                    if (document.getElementById(\"3bcbba6f-7ec1-4353-ba3a-edb1fdf07ab7\")) {                    Plotly.newPlot(                        \"3bcbba6f-7ec1-4353-ba3a-edb1fdf07ab7\",                        [{\"marker\":{\"color\":\"#D6604D\"},\"name\":\"Other Company\",\"x\":[2016,2017,2018,2019],\"y\":[554,38,11,16],\"type\":\"bar\"},{\"marker\":{\"color\":\"#4393C3\"},\"name\":\"Tech Company\",\"x\":[2016,2017,2018,2019],\"y\":[155,416,271,168],\"type\":\"bar\"},{\"marker\":{\"color\":\"#B2182B\"},\"name\":\"Other Company\",\"x\":[2016,2017,2018,2019],\"y\":[46.20938628158845,47.36842105263158,81.81818181818181,68.75],\"yaxis\":\"y2\",\"type\":\"scatter\"},{\"marker\":{\"color\":\"#2166AC\"},\"name\":\"Tech Company\",\"x\":[2016,2017,2018,2019],\"y\":[46.45161290322581,49.27884615384615,50.55350553505535,51.19047619047619],\"yaxis\":\"y2\",\"type\":\"scatter\"}],                        {\"barmode\":\"group\",\"title\":{\"text\":\"Mental Health Comparison by role\"},\"yaxis\":{\"title\":{\"text\":\"Total number of employees\"}},\"yaxis2\":{\"overlaying\":\"y\",\"range\":[0,100],\"side\":\"right\",\"title\":{\"text\":\"Percentage of Users with Mental Health\"}},\"template\":{\"data\":{\"histogram2dcontour\":[{\"type\":\"histogram2dcontour\",\"colorbar\":{\"outlinewidth\":0,\"ticks\":\"\"},\"colorscale\":[[0.0,\"#0d0887\"],[0.1111111111111111,\"#46039f\"],[0.2222222222222222,\"#7201a8\"],[0.3333333333333333,\"#9c179e\"],[0.4444444444444444,\"#bd3786\"],[0.5555555555555556,\"#d8576b\"],[0.6666666666666666,\"#ed7953\"],[0.7777777777777778,\"#fb9f3a\"],[0.8888888888888888,\"#fdca26\"],[1.0,\"#f0f921\"]]}],\"choropleth\":[{\"type\":\"choropleth\",\"colorbar\":{\"outlinewidth\":0,\"ticks\":\"\"}}],\"histogram2d\":[{\"type\":\"histogram2d\",\"colorbar\":{\"outlinewidth\":0,\"ticks\":\"\"},\"colorscale\":[[0.0,\"#0d0887\"],[0.1111111111111111,\"#46039f\"],[0.2222222222222222,\"#7201a8\"],[0.3333333333333333,\"#9c179e\"],[0.4444444444444444,\"#bd3786\"],[0.5555555555555556,\"#d8576b\"],[0.6666666666666666,\"#ed7953\"],[0.7777777777777778,\"#fb9f3a\"],[0.8888888888888888,\"#fdca26\"],[1.0,\"#f0f921\"]]}],\"heatmap\":[{\"type\":\"heatmap\",\"colorbar\":{\"outlinewidth\":0,\"ticks\":\"\"},\"colorscale\":[[0.0,\"#0d0887\"],[0.1111111111111111,\"#46039f\"],[0.2222222222222222,\"#7201a8\"],[0.3333333333333333,\"#9c179e\"],[0.4444444444444444,\"#bd3786\"],[0.5555555555555556,\"#d8576b\"],[0.6666666666666666,\"#ed7953\"],[0.7777777777777778,\"#fb9f3a\"],[0.8888888888888888,\"#fdca26\"],[1.0,\"#f0f921\"]]}],\"heatmapgl\":[{\"type\":\"heatmapgl\",\"colorbar\":{\"outlinewidth\":0,\"ticks\":\"\"},\"colorscale\":[[0.0,\"#0d0887\"],[0.1111111111111111,\"#46039f\"],[0.2222222222222222,\"#7201a8\"],[0.3333333333333333,\"#9c179e\"],[0.4444444444444444,\"#bd3786\"],[0.5555555555555556,\"#d8576b\"],[0.6666666666666666,\"#ed7953\"],[0.7777777777777778,\"#fb9f3a\"],[0.8888888888888888,\"#fdca26\"],[1.0,\"#f0f921\"]]}],\"contourcarpet\":[{\"type\":\"contourcarpet\",\"colorbar\":{\"outlinewidth\":0,\"ticks\":\"\"}}],\"contour\":[{\"type\":\"contour\",\"colorbar\":{\"outlinewidth\":0,\"ticks\":\"\"},\"colorscale\":[[0.0,\"#0d0887\"],[0.1111111111111111,\"#46039f\"],[0.2222222222222222,\"#7201a8\"],[0.3333333333333333,\"#9c179e\"],[0.4444444444444444,\"#bd3786\"],[0.5555555555555556,\"#d8576b\"],[0.6666666666666666,\"#ed7953\"],[0.7777777777777778,\"#fb9f3a\"],[0.8888888888888888,\"#fdca26\"],[1.0,\"#f0f921\"]]}],\"surface\":[{\"type\":\"surface\",\"colorbar\":{\"outlinewidth\":0,\"ticks\":\"\"},\"colorscale\":[[0.0,\"#0d0887\"],[0.1111111111111111,\"#46039f\"],[0.2222222222222222,\"#7201a8\"],[0.3333333333333333,\"#9c179e\"],[0.4444444444444444,\"#bd3786\"],[0.5555555555555556,\"#d8576b\"],[0.6666666666666666,\"#ed7953\"],[0.7777777777777778,\"#fb9f3a\"],[0.8888888888888888,\"#fdca26\"],[1.0,\"#f0f921\"]]}],\"mesh3d\":[{\"type\":\"mesh3d\",\"colorbar\":{\"outlinewidth\":0,\"ticks\":\"\"}}],\"scatter\":[{\"fillpattern\":{\"fillmode\":\"overlay\",\"size\":10,\"solidity\":0.2},\"type\":\"scatter\"}],\"parcoords\":[{\"type\":\"parcoords\",\"line\":{\"colorbar\":{\"outlinewidth\":0,\"ticks\":\"\"}}}],\"scatterpolargl\":[{\"type\":\"scatterpolargl\",\"marker\":{\"colorbar\":{\"outlinewidth\":0,\"ticks\":\"\"}}}],\"bar\":[{\"error_x\":{\"color\":\"#2a3f5f\"},\"error_y\":{\"color\":\"#2a3f5f\"},\"marker\":{\"line\":{\"color\":\"#E5ECF6\",\"width\":0.5},\"pattern\":{\"fillmode\":\"overlay\",\"size\":10,\"solidity\":0.2}},\"type\":\"bar\"}],\"scattergeo\":[{\"type\":\"scattergeo\",\"marker\":{\"colorbar\":{\"outlinewidth\":0,\"ticks\":\"\"}}}],\"scatterpolar\":[{\"type\":\"scatterpolar\",\"marker\":{\"colorbar\":{\"outlinewidth\":0,\"ticks\":\"\"}}}],\"histogram\":[{\"marker\":{\"pattern\":{\"fillmode\":\"overlay\",\"size\":10,\"solidity\":0.2}},\"type\":\"histogram\"}],\"scattergl\":[{\"type\":\"scattergl\",\"marker\":{\"colorbar\":{\"outlinewidth\":0,\"ticks\":\"\"}}}],\"scatter3d\":[{\"type\":\"scatter3d\",\"line\":{\"colorbar\":{\"outlinewidth\":0,\"ticks\":\"\"}},\"marker\":{\"colorbar\":{\"outlinewidth\":0,\"ticks\":\"\"}}}],\"scattermapbox\":[{\"type\":\"scattermapbox\",\"marker\":{\"colorbar\":{\"outlinewidth\":0,\"ticks\":\"\"}}}],\"scatterternary\":[{\"type\":\"scatterternary\",\"marker\":{\"colorbar\":{\"outlinewidth\":0,\"ticks\":\"\"}}}],\"scattercarpet\":[{\"type\":\"scattercarpet\",\"marker\":{\"colorbar\":{\"outlinewidth\":0,\"ticks\":\"\"}}}],\"carpet\":[{\"aaxis\":{\"endlinecolor\":\"#2a3f5f\",\"gridcolor\":\"white\",\"linecolor\":\"white\",\"minorgridcolor\":\"white\",\"startlinecolor\":\"#2a3f5f\"},\"baxis\":{\"endlinecolor\":\"#2a3f5f\",\"gridcolor\":\"white\",\"linecolor\":\"white\",\"minorgridcolor\":\"white\",\"startlinecolor\":\"#2a3f5f\"},\"type\":\"carpet\"}],\"table\":[{\"cells\":{\"fill\":{\"color\":\"#EBF0F8\"},\"line\":{\"color\":\"white\"}},\"header\":{\"fill\":{\"color\":\"#C8D4E3\"},\"line\":{\"color\":\"white\"}},\"type\":\"table\"}],\"barpolar\":[{\"marker\":{\"line\":{\"color\":\"#E5ECF6\",\"width\":0.5},\"pattern\":{\"fillmode\":\"overlay\",\"size\":10,\"solidity\":0.2}},\"type\":\"barpolar\"}],\"pie\":[{\"automargin\":true,\"type\":\"pie\"}]},\"layout\":{\"autotypenumbers\":\"strict\",\"colorway\":[\"#636efa\",\"#EF553B\",\"#00cc96\",\"#ab63fa\",\"#FFA15A\",\"#19d3f3\",\"#FF6692\",\"#B6E880\",\"#FF97FF\",\"#FECB52\"],\"font\":{\"color\":\"#2a3f5f\"},\"hovermode\":\"closest\",\"hoverlabel\":{\"align\":\"left\"},\"paper_bgcolor\":\"white\",\"plot_bgcolor\":\"#E5ECF6\",\"polar\":{\"bgcolor\":\"#E5ECF6\",\"angularaxis\":{\"gridcolor\":\"white\",\"linecolor\":\"white\",\"ticks\":\"\"},\"radialaxis\":{\"gridcolor\":\"white\",\"linecolor\":\"white\",\"ticks\":\"\"}},\"ternary\":{\"bgcolor\":\"#E5ECF6\",\"aaxis\":{\"gridcolor\":\"white\",\"linecolor\":\"white\",\"ticks\":\"\"},\"baxis\":{\"gridcolor\":\"white\",\"linecolor\":\"white\",\"ticks\":\"\"},\"caxis\":{\"gridcolor\":\"white\",\"linecolor\":\"white\",\"ticks\":\"\"}},\"coloraxis\":{\"colorbar\":{\"outlinewidth\":0,\"ticks\":\"\"}},\"colorscale\":{\"sequential\":[[0.0,\"#0d0887\"],[0.1111111111111111,\"#46039f\"],[0.2222222222222222,\"#7201a8\"],[0.3333333333333333,\"#9c179e\"],[0.4444444444444444,\"#bd3786\"],[0.5555555555555556,\"#d8576b\"],[0.6666666666666666,\"#ed7953\"],[0.7777777777777778,\"#fb9f3a\"],[0.8888888888888888,\"#fdca26\"],[1.0,\"#f0f921\"]],\"sequentialminus\":[[0.0,\"#0d0887\"],[0.1111111111111111,\"#46039f\"],[0.2222222222222222,\"#7201a8\"],[0.3333333333333333,\"#9c179e\"],[0.4444444444444444,\"#bd3786\"],[0.5555555555555556,\"#d8576b\"],[0.6666666666666666,\"#ed7953\"],[0.7777777777777778,\"#fb9f3a\"],[0.8888888888888888,\"#fdca26\"],[1.0,\"#f0f921\"]],\"diverging\":[[0,\"#8e0152\"],[0.1,\"#c51b7d\"],[0.2,\"#de77ae\"],[0.3,\"#f1b6da\"],[0.4,\"#fde0ef\"],[0.5,\"#f7f7f7\"],[0.6,\"#e6f5d0\"],[0.7,\"#b8e186\"],[0.8,\"#7fbc41\"],[0.9,\"#4d9221\"],[1,\"#276419\"]]},\"xaxis\":{\"gridcolor\":\"white\",\"linecolor\":\"white\",\"ticks\":\"\",\"title\":{\"standoff\":15},\"zerolinecolor\":\"white\",\"automargin\":true,\"zerolinewidth\":2},\"yaxis\":{\"gridcolor\":\"white\",\"linecolor\":\"white\",\"ticks\":\"\",\"title\":{\"standoff\":15},\"zerolinecolor\":\"white\",\"automargin\":true,\"zerolinewidth\":2},\"scene\":{\"xaxis\":{\"backgroundcolor\":\"#E5ECF6\",\"gridcolor\":\"white\",\"linecolor\":\"white\",\"showbackground\":true,\"ticks\":\"\",\"zerolinecolor\":\"white\",\"gridwidth\":2},\"yaxis\":{\"backgroundcolor\":\"#E5ECF6\",\"gridcolor\":\"white\",\"linecolor\":\"white\",\"showbackground\":true,\"ticks\":\"\",\"zerolinecolor\":\"white\",\"gridwidth\":2},\"zaxis\":{\"backgroundcolor\":\"#E5ECF6\",\"gridcolor\":\"white\",\"linecolor\":\"white\",\"showbackground\":true,\"ticks\":\"\",\"zerolinecolor\":\"white\",\"gridwidth\":2}},\"shapedefaults\":{\"line\":{\"color\":\"#2a3f5f\"}},\"annotationdefaults\":{\"arrowcolor\":\"#2a3f5f\",\"arrowhead\":0,\"arrowwidth\":1},\"geo\":{\"bgcolor\":\"white\",\"landcolor\":\"#E5ECF6\",\"subunitcolor\":\"white\",\"showland\":true,\"showlakes\":true,\"lakecolor\":\"white\"},\"title\":{\"x\":0.05},\"mapbox\":{\"style\":\"light\"}}}},                        {\"responsive\": true}                    ).then(function(){\n",
       "                            \n",
       "var gd = document.getElementById('3bcbba6f-7ec1-4353-ba3a-edb1fdf07ab7');\n",
       "var x = new MutationObserver(function (mutations, observer) {{\n",
       "        var display = window.getComputedStyle(gd).display;\n",
       "        if (!display || display === 'none') {{\n",
       "            console.log([gd, 'removed!']);\n",
       "            Plotly.purge(gd);\n",
       "            observer.disconnect();\n",
       "        }}\n",
       "}});\n",
       "\n",
       "// Listen for the removal of the full notebook cells\n",
       "var notebookContainer = gd.closest('#notebook-container');\n",
       "if (notebookContainer) {{\n",
       "    x.observe(notebookContainer, {childList: true});\n",
       "}}\n",
       "\n",
       "// Listen for the clearing of the current output cell\n",
       "var outputEl = gd.closest('.output');\n",
       "if (outputEl) {{\n",
       "    x.observe(outputEl, {childList: true});\n",
       "}}\n",
       "\n",
       "                        })                };                });            </script>        </div>"
      ]
     },
     "metadata": {},
     "output_type": "display_data"
    }
   ],
   "source": [
    "query = \"\"\"\n",
    "\n",
    "SELECT year,company_type,\n",
    "        COUNT(Mental_Health) AS total_Mental_Health, \n",
    "        SUM(Mental_Health) AS have_Mental_Health, \n",
    "        100.0*SUM(Mental_Health)/COUNT(Mental_Health) AS Percentage\n",
    "FROM (\n",
    "    SELECT SurveyID AS year,\n",
    "            MAX(CASE WHEN (QuestionID == 4  AND AnswerText !=-1) THEN AnswerText END) AS state,\n",
    "            MAX(CASE WHEN (QuestionID == 5  AND AnswerText != 1) THEN AnswerText END) AS Self_Employed,     \n",
    "            MAX(CASE WHEN (QuestionID == 13 AND AnswerText == 1) THEN 'Tech_company' ELSE 'Other_company' END) AS company_type,\n",
    "            MAX(CASE WHEN (QuestionID == 33 AND AnswerText == 'Yes') THEN 1 ELSE 0 END) AS Mental_Health\n",
    "    FROM Answer\n",
    "    WHERE QuestionID IN (4,5,13, 33) AND year != 2014\n",
    "    GROUP BY year, UserID\n",
    "    HAVING state IS NOT NULL\n",
    "       AND Self_Employed IS NOT NULL\n",
    ") AS mh_data\n",
    "GROUP BY year,company_type;\n",
    "\n",
    "\"\"\"\n",
    "df = pd.read_sql(query, con)\n",
    "\n",
    "#Question 4 which state ? remove -1 (outside USA)\n",
    "#Question 5 are you self employed\n",
    "#Question 13 Is your primary role within your company related to tech/IT?\n",
    "#Question 33 Do you currently have a mental health disorder?\n",
    "\n",
    "# Create a trace for the bar chart of total mental health\n",
    "trace1 = go.Bar(\n",
    "    x=df[df['company_type'] == 'Other_company']['year'],\n",
    "    y=df[df['company_type'] == 'Other_company']['total_Mental_Health'],\n",
    "    name='Other Company', marker_color= '#D6604D'\n",
    ")\n",
    "\n",
    "trace2 = go.Bar(\n",
    "    x=df[df['company_type'] == 'Tech_company']['year'],\n",
    "    y=df[df['company_type'] == 'Tech_company']['total_Mental_Health'],\n",
    "    name='Tech Company',marker_color= '#4393C3'\n",
    ")\n",
    "\n",
    "# Create a trace for the line chart of percentage of users with mental health\n",
    "trace3 = go.Scatter(\n",
    "    x=df[df['company_type'] == 'Other_company']['year'],\n",
    "    y=df[df['company_type'] == 'Other_company']['Percentage'],\n",
    "    name='Other Company',\n",
    "    yaxis='y2',marker_color= '#B2182B'\n",
    ")\n",
    "\n",
    "trace4 = go.Scatter(\n",
    "    x=df[df['company_type'] == 'Tech_company']['year'],\n",
    "    y=df[df['company_type'] == 'Tech_company']['Percentage'],\n",
    "    name='Tech Company',\n",
    "    yaxis='y2',marker_color= '#2166AC'\n",
    ")\n",
    "\n",
    "# Define the layout\n",
    "layout = go.Layout(\n",
    "    title='Mental Health Comparison by role',\n",
    "    yaxis=dict(title='Total number of employees'),\n",
    "    yaxis2=dict(\n",
    "        title='Percentage of Users with Mental Health',\n",
    "        overlaying='y',\n",
    "        side='right',\n",
    "        range=[0, 100]\n",
    "    ),\n",
    "    barmode='group'\n",
    ")\n",
    "\n",
    "# Combine the traces and layout into a figure\n",
    "fig = go.Figure(data=[trace1, trace2, trace3, trace4], layout=layout)\n",
    "\n",
    "# Show the figure\n",
    "fig.show()"
   ]
  },
  {
   "cell_type": "markdown",
   "id": "d377a22f",
   "metadata": {
    "papermill": {
     "duration": 0.00851,
     "end_time": "2023-03-04T17:34:51.266854",
     "exception": false,
     "start_time": "2023-03-04T17:34:51.258344",
     "status": "completed"
    },
    "tags": []
   },
   "source": [
    "This bar chart is showing the total number of employee in each company type and its relavent percentage of employee with mental health is shown in a line chart. You can hover over the bars and lines to see the exact values and zoom in/out to see more details.\n",
    "\n",
    "The data shows a consistent percentage of employees reporting mental health issues across the years, with a slightly higher percentage in tech companies than in other companies in 2016 and 2017. However, the percentage became relatively similar in 2018 and 2019. Self-reported data and other factors like work culture and mental health resources could affect the accuracy of the findings."
   ]
  },
  {
   "cell_type": "markdown",
   "id": "f4188598",
   "metadata": {
    "papermill": {
     "duration": 0.008338,
     "end_time": "2023-03-04T17:34:51.284142",
     "exception": false,
     "start_time": "2023-03-04T17:34:51.275804",
     "status": "completed"
    },
    "tags": []
   },
   "source": [
    "The main question here is how can we identify the source of the reported mental health percentage in the tech industry and **determine if it is related to genetic illnesses rather than workplace stress?** "
   ]
  },
  {
   "cell_type": "code",
   "execution_count": 7,
   "id": "d670de8e",
   "metadata": {
    "execution": {
     "iopub.execute_input": "2023-03-04T17:34:51.303872Z",
     "iopub.status.busy": "2023-03-04T17:34:51.302820Z",
     "iopub.status.idle": "2023-03-04T17:34:51.558873Z",
     "shell.execute_reply": "2023-03-04T17:34:51.556212Z"
    },
    "papermill": {
     "duration": 0.271067,
     "end_time": "2023-03-04T17:34:51.563925",
     "exception": false,
     "start_time": "2023-03-04T17:34:51.292858",
     "status": "completed"
    },
    "tags": []
   },
   "outputs": [
    {
     "data": {
      "image/png": "[encoded data removed]",
      "text/plain": [
       "<Figure size 432x288 with 1 Axes>"
      ]
     },
     "metadata": {},
     "output_type": "display_data"
    }
   ],
   "source": [
    "query = \"\"\"\n",
    "\n",
    "SELECT family_history, \n",
    "       100.0 * COUNT(family_history) / SUM(COUNT(family_history)) OVER () AS percentage\n",
    "FROM (\n",
    "    SELECT SurveyID AS year,\n",
    "            MAX(CASE WHEN (QuestionID == 4  AND AnswerText !=-1) THEN AnswerText END) AS state,\n",
    "            MAX(CASE WHEN (QuestionID == 5  AND AnswerText != 1) THEN AnswerText END) AS Self_Employed,     \n",
    "            MAX(CASE WHEN (QuestionID == 13 AND AnswerText == 1) THEN 'Tech_company' END) AS tech_company,\n",
    "            MAX(CASE WHEN (QuestionID == 33 AND AnswerText == 'Yes') THEN 1 END) AS Mental_Health,\n",
    "            MAX(CASE WHEN (QuestionID == 6 ) THEN AnswerText END) AS family_history\n",
    "\n",
    "    FROM Answer\n",
    "    WHERE QuestionID IN (4,5,6, 13, 33) AND year != 2014\n",
    "    GROUP BY year, UserID\n",
    "    HAVING state IS NOT NULL\n",
    "       AND Self_Employed IS NOT NULL\n",
    "       AND tech_company IS NOT NULL\n",
    "       AND Mental_Health IS NOT NULL\n",
    ") \n",
    "GROUP BY  family_history\n",
    "\n",
    "\"\"\"\n",
    "df = pd.read_sql(query, con)\n",
    "\n",
    "colors = [\"#BABABA\", \"#3E88B5\", \"#B2182B\"]\n",
    "explode = (0, 0, 0.1)  \n",
    "plt.pie(df[\"percentage\"], labels=df[\"family_history\"], explode=explode, colors=colors,\n",
    "autopct='%1.1f%%', shadow=True, startangle=140)\n",
    "plt.title(\"Percentage of Mental Health Issues by Family History\\n\"+\"in Tech Companies\")\n",
    "plt.show()"
   ]
  },
  {
   "cell_type": "markdown",
   "id": "53eb0a43",
   "metadata": {
    "papermill": {
     "duration": 0.023072,
     "end_time": "2023-03-04T17:34:51.610847",
     "exception": false,
     "start_time": "2023-03-04T17:34:51.587775",
     "status": "completed"
    },
    "tags": []
   },
   "source": [
    "Based on the given data, 69.2% of employees in the tech industry who suffer from mental health issues have a family history of mental health. This suggests that genetic factors may play a significant role in the prevalence of mental health issues among employees in the tech industry. Furthermore, it is noteworthy that a significant proportion of employees (21%) were unsure if they had a family history of mental health, which could indicate a lack of awareness or knowledge about their family's mental health history.\n",
    "\n",
    "This graph presents data on the availability of mental health benefits as part of healthcare coverage among employees. It highlights **the percentage of employees who reported that their employer provides such benefits, as well as those who reported that their employer does not provide mental health benefits**."
   ]
  },
  {
   "cell_type": "code",
   "execution_count": 8,
   "id": "bc10ba49",
   "metadata": {
    "execution": {
     "iopub.execute_input": "2023-03-04T17:34:51.635928Z",
     "iopub.status.busy": "2023-03-04T17:34:51.634756Z",
     "iopub.status.idle": "2023-03-04T17:34:51.941907Z",
     "shell.execute_reply": "2023-03-04T17:34:51.940701Z"
    },
    "papermill": {
     "duration": 0.320753,
     "end_time": "2023-03-04T17:34:51.945081",
     "exception": false,
     "start_time": "2023-03-04T17:34:51.624328",
     "status": "completed"
    },
    "tags": []
   },
   "outputs": [
    {
     "data": {
      "text/html": [
       "<div>                            <div id=\"55e70373-e0c7-4516-993d-afa4e2f87f4a\" class=\"plotly-graph-div\" style=\"height:525px; width:100%;\"></div>            <script type=\"text/javascript\">                require([\"plotly\"], function(Plotly) {                    window.PLOTLYENV=window.PLOTLYENV || {};                                    if (document.getElementById(\"55e70373-e0c7-4516-993d-afa4e2f87f4a\")) {                    Plotly.newPlot(                        \"55e70373-e0c7-4516-993d-afa4e2f87f4a\",                        [{\"coloraxis\":\"coloraxis\",\"geo\":\"geo\",\"hovertemplate\":\"<b>%{hovertext}</b><br><br>year=2014<br>StateCode=%{location}<br>MH_Benefits=%{z}<extra></extra>\",\"hovertext\":[75.0,80.0,62.5,62.5,33.333333333333336,50.0,87.5,0.0,68.75,29.41176470588235,50.0,0.0,100.0,0.0,0.0,82.3529411764706,46.666666666666664,30.76923076923077,37.5,0.0,0.0,66.66666666666667,80.0,0.0,53.333333333333336,50.0,36.0,50.0,59.25925925925926,61.904761904761905,0.0,40.0,66.66666666666667,46.666666666666664,40.625,12.5,50.0,62.5,65.51724137931035,57.142857142857146,0.0],\"locationmode\":\"USA-states\",\"locations\":[\"AL\",\"AZ\",\"CA\",\"CO\",\"CT\",\"FL\",\"GA\",\"ID\",\"IL\",\"IN\",\"IA\",\"KS\",\"KY\",\"ME\",\"MD\",\"MA\",\"MI\",\"MN\",\"MO\",\"NE\",\"NV\",\"NH\",\"NJ\",\"NM\",\"NY\",\"NC\",\"OH\",\"OK\",\"OR\",\"PA\",\"RI\",\"SC\",\"SD\",\"TN\",\"TX\",\"UT\",\"VT\",\"VA\",\"WA\",\"WI\",\"WY\"],\"name\":\"\",\"z\":[75.0,80.0,62.5,62.5,33.333333333333336,50.0,87.5,0.0,68.75,29.41176470588235,50.0,0.0,100.0,0.0,0.0,82.3529411764706,46.666666666666664,30.76923076923077,37.5,0.0,0.0,66.66666666666667,80.0,0.0,53.333333333333336,50.0,36.0,50.0,59.25925925925926,61.904761904761905,0.0,40.0,66.66666666666667,46.666666666666664,40.625,12.5,50.0,62.5,65.51724137931035,57.142857142857146,0.0],\"type\":\"choropleth\"}],                        {\"template\":{\"data\":{\"histogram2dcontour\":[{\"type\":\"histogram2dcontour\",\"colorbar\":{\"outlinewidth\":0,\"ticks\":\"\"},\"colorscale\":[[0.0,\"#0d0887\"],[0.1111111111111111,\"#46039f\"],[0.2222222222222222,\"#7201a8\"],[0.3333333333333333,\"#9c179e\"],[0.4444444444444444,\"#bd3786\"],[0.5555555555555556,\"#d8576b\"],[0.6666666666666666,\"#ed7953\"],[0.7777777777777778,\"#fb9f3a\"],[0.8888888888888888,\"#fdca26\"],[1.0,\"#f0f921\"]]}],\"choropleth\":[{\"type\":\"choropleth\",\"colorbar\":{\"outlinewidth\":0,\"ticks\":\"\"}}],\"histogram2d\":[{\"type\":\"histogram2d\",\"colorbar\":{\"outlinewidth\":0,\"ticks\":\"\"},\"colorscale\":[[0.0,\"#0d0887\"],[0.1111111111111111,\"#46039f\"],[0.2222222222222222,\"#7201a8\"],[0.3333333333333333,\"#9c179e\"],[0.4444444444444444,\"#bd3786\"],[0.5555555555555556,\"#d8576b\"],[0.6666666666666666,\"#ed7953\"],[0.7777777777777778,\"#fb9f3a\"],[0.8888888888888888,\"#fdca26\"],[1.0,\"#f0f921\"]]}],\"heatmap\":[{\"type\":\"heatmap\",\"colorbar\":{\"outlinewidth\":0,\"ticks\":\"\"},\"colorscale\":[[0.0,\"#0d0887\"],[0.1111111111111111,\"#46039f\"],[0.2222222222222222,\"#7201a8\"],[0.3333333333333333,\"#9c179e\"],[0.4444444444444444,\"#bd3786\"],[0.5555555555555556,\"#d8576b\"],[0.6666666666666666,\"#ed7953\"],[0.7777777777777778,\"#fb9f3a\"],[0.8888888888888888,\"#fdca26\"],[1.0,\"#f0f921\"]]}],\"heatmapgl\":[{\"type\":\"heatmapgl\",\"colorbar\":{\"outlinewidth\":0,\"ticks\":\"\"},\"colorscale\":[[0.0,\"#0d0887\"],[0.1111111111111111,\"#46039f\"],[0.2222222222222222,\"#7201a8\"],[0.3333333333333333,\"#9c179e\"],[0.4444444444444444,\"#bd3786\"],[0.5555555555555556,\"#d8576b\"],[0.6666666666666666,\"#ed7953\"],[0.7777777777777778,\"#fb9f3a\"],[0.8888888888888888,\"#fdca26\"],[1.0,\"#f0f921\"]]}],\"contourcarpet\":[{\"type\":\"contourcarpet\",\"colorbar\":{\"outlinewidth\":0,\"ticks\":\"\"}}],\"contour\":[{\"type\":\"contour\",\"colorbar\":{\"outlinewidth\":0,\"ticks\":\"\"},\"colorscale\":[[0.0,\"#0d0887\"],[0.1111111111111111,\"#46039f\"],[0.2222222222222222,\"#7201a8\"],[0.3333333333333333,\"#9c179e\"],[0.4444444444444444,\"#bd3786\"],[0.5555555555555556,\"#d8576b\"],[0.6666666666666666,\"#ed7953\"],[0.7777777777777778,\"#fb9f3a\"],[0.8888888888888888,\"#fdca26\"],[1.0,\"#f0f921\"]]}],\"surface\":[{\"type\":\"surface\",\"colorbar\":{\"outlinewidth\":0,\"ticks\":\"\"},\"colorscale\":[[0.0,\"#0d0887\"],[0.1111111111111111,\"#46039f\"],[0.2222222222222222,\"#7201a8\"],[0.3333333333333333,\"#9c179e\"],[0.4444444444444444,\"#bd3786\"],[0.5555555555555556,\"#d8576b\"],[0.6666666666666666,\"#ed7953\"],[0.7777777777777778,\"#fb9f3a\"],[0.8888888888888888,\"#fdca26\"],[1.0,\"#f0f921\"]]}],\"mesh3d\":[{\"type\":\"mesh3d\",\"colorbar\":{\"outlinewidth\":0,\"ticks\":\"\"}}],\"scatter\":[{\"fillpattern\":{\"fillmode\":\"overlay\",\"size\":10,\"solidity\":0.2},\"type\":\"scatter\"}],\"parcoords\":[{\"type\":\"parcoords\",\"line\":{\"colorbar\":{\"outlinewidth\":0,\"ticks\":\"\"}}}],\"scatterpolargl\":[{\"type\":\"scatterpolargl\",\"marker\":{\"colorbar\":{\"outlinewidth\":0,\"ticks\":\"\"}}}],\"bar\":[{\"error_x\":{\"color\":\"#2a3f5f\"},\"error_y\":{\"color\":\"#2a3f5f\"},\"marker\":{\"line\":{\"color\":\"#E5ECF6\",\"width\":0.5},\"pattern\":{\"fillmode\":\"overlay\",\"size\":10,\"solidity\":0.2}},\"type\":\"bar\"}],\"scattergeo\":[{\"type\":\"scattergeo\",\"marker\":{\"colorbar\":{\"outlinewidth\":0,\"ticks\":\"\"}}}],\"scatterpolar\":[{\"type\":\"scatterpolar\",\"marker\":{\"colorbar\":{\"outlinewidth\":0,\"ticks\":\"\"}}}],\"histogram\":[{\"marker\":{\"pattern\":{\"fillmode\":\"overlay\",\"size\":10,\"solidity\":0.2}},\"type\":\"histogram\"}],\"scattergl\":[{\"type\":\"scattergl\",\"marker\":{\"colorbar\":{\"outlinewidth\":0,\"ticks\":\"\"}}}],\"scatter3d\":[{\"type\":\"scatter3d\",\"line\":{\"colorbar\":{\"outlinewidth\":0,\"ticks\":\"\"}},\"marker\":{\"colorbar\":{\"outlinewidth\":0,\"ticks\":\"\"}}}],\"scattermapbox\":[{\"type\":\"scattermapbox\",\"marker\":{\"colorbar\":{\"outlinewidth\":0,\"ticks\":\"\"}}}],\"scatterternary\":[{\"type\":\"scatterternary\",\"marker\":{\"colorbar\":{\"outlinewidth\":0,\"ticks\":\"\"}}}],\"scattercarpet\":[{\"type\":\"scattercarpet\",\"marker\":{\"colorbar\":{\"outlinewidth\":0,\"ticks\":\"\"}}}],\"carpet\":[{\"aaxis\":{\"endlinecolor\":\"#2a3f5f\",\"gridcolor\":\"white\",\"linecolor\":\"white\",\"minorgridcolor\":\"white\",\"startlinecolor\":\"#2a3f5f\"},\"baxis\":{\"endlinecolor\":\"#2a3f5f\",\"gridcolor\":\"white\",\"linecolor\":\"white\",\"minorgridcolor\":\"white\",\"startlinecolor\":\"#2a3f5f\"},\"type\":\"carpet\"}],\"table\":[{\"cells\":{\"fill\":{\"color\":\"#EBF0F8\"},\"line\":{\"color\":\"white\"}},\"header\":{\"fill\":{\"color\":\"#C8D4E3\"},\"line\":{\"color\":\"white\"}},\"type\":\"table\"}],\"barpolar\":[{\"marker\":{\"line\":{\"color\":\"#E5ECF6\",\"width\":0.5},\"pattern\":{\"fillmode\":\"overlay\",\"size\":10,\"solidity\":0.2}},\"type\":\"barpolar\"}],\"pie\":[{\"automargin\":true,\"type\":\"pie\"}]},\"layout\":{\"autotypenumbers\":\"strict\",\"colorway\":[\"#636efa\",\"#EF553B\",\"#00cc96\",\"#ab63fa\",\"#FFA15A\",\"#19d3f3\",\"#FF6692\",\"#B6E880\",\"#FF97FF\",\"#FECB52\"],\"font\":{\"color\":\"#2a3f5f\"},\"hovermode\":\"closest\",\"hoverlabel\":{\"align\":\"left\"},\"paper_bgcolor\":\"white\",\"plot_bgcolor\":\"#E5ECF6\",\"polar\":{\"bgcolor\":\"#E5ECF6\",\"angularaxis\":{\"gridcolor\":\"white\",\"linecolor\":\"white\",\"ticks\":\"\"},\"radialaxis\":{\"gridcolor\":\"white\",\"linecolor\":\"white\",\"ticks\":\"\"}},\"ternary\":{\"bgcolor\":\"#E5ECF6\",\"aaxis\":{\"gridcolor\":\"white\",\"linecolor\":\"white\",\"ticks\":\"\"},\"baxis\":{\"gridcolor\":\"white\",\"linecolor\":\"white\",\"ticks\":\"\"},\"caxis\":{\"gridcolor\":\"white\",\"linecolor\":\"white\",\"ticks\":\"\"}},\"coloraxis\":{\"colorbar\":{\"outlinewidth\":0,\"ticks\":\"\"}},\"colorscale\":{\"sequential\":[[0.0,\"#0d0887\"],[0.1111111111111111,\"#46039f\"],[0.2222222222222222,\"#7201a8\"],[0.3333333333333333,\"#9c179e\"],[0.4444444444444444,\"#bd3786\"],[0.5555555555555556,\"#d8576b\"],[0.6666666666666666,\"#ed7953\"],[0.7777777777777778,\"#fb9f3a\"],[0.8888888888888888,\"#fdca26\"],[1.0,\"#f0f921\"]],\"sequentialminus\":[[0.0,\"#0d0887\"],[0.1111111111111111,\"#46039f\"],[0.2222222222222222,\"#7201a8\"],[0.3333333333333333,\"#9c179e\"],[0.4444444444444444,\"#bd3786\"],[0.5555555555555556,\"#d8576b\"],[0.6666666666666666,\"#ed7953\"],[0.7777777777777778,\"#fb9f3a\"],[0.8888888888888888,\"#fdca26\"],[1.0,\"#f0f921\"]],\"diverging\":[[0,\"#8e0152\"],[0.1,\"#c51b7d\"],[0.2,\"#de77ae\"],[0.3,\"#f1b6da\"],[0.4,\"#fde0ef\"],[0.5,\"#f7f7f7\"],[0.6,\"#e6f5d0\"],[0.7,\"#b8e186\"],[0.8,\"#7fbc41\"],[0.9,\"#4d9221\"],[1,\"#276419\"]]},\"xaxis\":{\"gridcolor\":\"white\",\"linecolor\":\"white\",\"ticks\":\"\",\"title\":{\"standoff\":15},\"zerolinecolor\":\"white\",\"automargin\":true,\"zerolinewidth\":2},\"yaxis\":{\"gridcolor\":\"white\",\"linecolor\":\"white\",\"ticks\":\"\",\"title\":{\"standoff\":15},\"zerolinecolor\":\"white\",\"automargin\":true,\"zerolinewidth\":2},\"scene\":{\"xaxis\":{\"backgroundcolor\":\"#E5ECF6\",\"gridcolor\":\"white\",\"linecolor\":\"white\",\"showbackground\":true,\"ticks\":\"\",\"zerolinecolor\":\"white\",\"gridwidth\":2},\"yaxis\":{\"backgroundcolor\":\"#E5ECF6\",\"gridcolor\":\"white\",\"linecolor\":\"white\",\"showbackground\":true,\"ticks\":\"\",\"zerolinecolor\":\"white\",\"gridwidth\":2},\"zaxis\":{\"backgroundcolor\":\"#E5ECF6\",\"gridcolor\":\"white\",\"linecolor\":\"white\",\"showbackground\":true,\"ticks\":\"\",\"zerolinecolor\":\"white\",\"gridwidth\":2}},\"shapedefaults\":{\"line\":{\"color\":\"#2a3f5f\"}},\"annotationdefaults\":{\"arrowcolor\":\"#2a3f5f\",\"arrowhead\":0,\"arrowwidth\":1},\"geo\":{\"bgcolor\":\"white\",\"landcolor\":\"#E5ECF6\",\"subunitcolor\":\"white\",\"showland\":true,\"showlakes\":true,\"lakecolor\":\"white\"},\"title\":{\"x\":0.05},\"mapbox\":{\"style\":\"light\"}}},\"geo\":{\"domain\":{\"x\":[0.0,1.0],\"y\":[0.0,1.0]},\"center\":{},\"scope\":\"usa\"},\"coloraxis\":{\"colorbar\":{\"title\":{\"text\":\"MH_Benefits\"}},\"colorscale\":[[0.0,\"rgb(255,245,240)\"],[0.125,\"rgb(254,224,210)\"],[0.25,\"rgb(252,187,161)\"],[0.375,\"rgb(252,146,114)\"],[0.5,\"rgb(251,106,74)\"],[0.625,\"rgb(239,59,44)\"],[0.75,\"rgb(203,24,29)\"],[0.875,\"rgb(165,15,21)\"],[1.0,\"rgb(103,0,13)\"]]},\"legend\":{\"tracegroupgap\":0},\"margin\":{\"t\":60},\"updatemenus\":[{\"buttons\":[{\"args\":[null,{\"frame\":{\"duration\":500,\"redraw\":true},\"mode\":\"immediate\",\"fromcurrent\":true,\"transition\":{\"duration\":500,\"easing\":\"linear\"}}],\"label\":\"&#9654;\",\"method\":\"animate\"},{\"args\":[[null],{\"frame\":{\"duration\":0,\"redraw\":true},\"mode\":\"immediate\",\"fromcurrent\":true,\"transition\":{\"duration\":0,\"easing\":\"linear\"}}],\"label\":\"&#9724;\",\"method\":\"animate\"}],\"direction\":\"left\",\"pad\":{\"r\":10,\"t\":70},\"showactive\":false,\"type\":\"buttons\",\"x\":0.1,\"xanchor\":\"right\",\"y\":0,\"yanchor\":\"top\"}],\"sliders\":[{\"active\":0,\"currentvalue\":{\"prefix\":\"year=\"},\"len\":0.9,\"pad\":{\"b\":10,\"t\":60},\"steps\":[{\"args\":[[\"2014\"],{\"frame\":{\"duration\":0,\"redraw\":true},\"mode\":\"immediate\",\"fromcurrent\":true,\"transition\":{\"duration\":0,\"easing\":\"linear\"}}],\"label\":\"2014\",\"method\":\"animate\"},{\"args\":[[\"2016\"],{\"frame\":{\"duration\":0,\"redraw\":true},\"mode\":\"immediate\",\"fromcurrent\":true,\"transition\":{\"duration\":0,\"easing\":\"linear\"}}],\"label\":\"2016\",\"method\":\"animate\"},{\"args\":[[\"2017\"],{\"frame\":{\"duration\":0,\"redraw\":true},\"mode\":\"immediate\",\"fromcurrent\":true,\"transition\":{\"duration\":0,\"easing\":\"linear\"}}],\"label\":\"2017\",\"method\":\"animate\"},{\"args\":[[\"2019\"],{\"frame\":{\"duration\":0,\"redraw\":true},\"mode\":\"immediate\",\"fromcurrent\":true,\"transition\":{\"duration\":0,\"easing\":\"linear\"}}],\"label\":\"2019\",\"method\":\"animate\"},{\"args\":[[\"2018\"],{\"frame\":{\"duration\":0,\"redraw\":true},\"mode\":\"immediate\",\"fromcurrent\":true,\"transition\":{\"duration\":0,\"easing\":\"linear\"}}],\"label\":\"2018\",\"method\":\"animate\"}],\"x\":0.1,\"xanchor\":\"left\",\"y\":0,\"yanchor\":\"top\"}],\"title\":{\"text\":\"Percentage of Mental Health Benefits Provided by Employers in US States\",\"y\":0.95,\"x\":0.1,\"xanchor\":\"center\",\"yanchor\":\"top\"}},                        {\"responsive\": true}                    ).then(function(){\n",
       "                            Plotly.addFrames('55e70373-e0c7-4516-993d-afa4e2f87f4a', [{\"data\":[{\"coloraxis\":\"coloraxis\",\"geo\":\"geo\",\"hovertemplate\":\"<b>%{hovertext}</b><br><br>year=2014<br>StateCode=%{location}<br>MH_Benefits=%{z}<extra></extra>\",\"hovertext\":[75.0,80.0,62.5,62.5,33.333333333333336,50.0,87.5,0.0,68.75,29.41176470588235,50.0,0.0,100.0,0.0,0.0,82.3529411764706,46.666666666666664,30.76923076923077,37.5,0.0,0.0,66.66666666666667,80.0,0.0,53.333333333333336,50.0,36.0,50.0,59.25925925925926,61.904761904761905,0.0,40.0,66.66666666666667,46.666666666666664,40.625,12.5,50.0,62.5,65.51724137931035,57.142857142857146,0.0],\"locationmode\":\"USA-states\",\"locations\":[\"AL\",\"AZ\",\"CA\",\"CO\",\"CT\",\"FL\",\"GA\",\"ID\",\"IL\",\"IN\",\"IA\",\"KS\",\"KY\",\"ME\",\"MD\",\"MA\",\"MI\",\"MN\",\"MO\",\"NE\",\"NV\",\"NH\",\"NJ\",\"NM\",\"NY\",\"NC\",\"OH\",\"OK\",\"OR\",\"PA\",\"RI\",\"SC\",\"SD\",\"TN\",\"TX\",\"UT\",\"VT\",\"VA\",\"WA\",\"WI\",\"WY\"],\"name\":\"\",\"z\":[75.0,80.0,62.5,62.5,33.333333333333336,50.0,87.5,0.0,68.75,29.41176470588235,50.0,0.0,100.0,0.0,0.0,82.3529411764706,46.666666666666664,30.76923076923077,37.5,0.0,0.0,66.66666666666667,80.0,0.0,53.333333333333336,50.0,36.0,50.0,59.25925925925926,61.904761904761905,0.0,40.0,66.66666666666667,46.666666666666664,40.625,12.5,50.0,62.5,65.51724137931035,57.142857142857146,0.0],\"type\":\"choropleth\"}],\"name\":\"2014\"},{\"data\":[{\"coloraxis\":\"coloraxis\",\"geo\":\"geo\",\"hovertemplate\":\"<b>%{hovertext}</b><br><br>year=2016<br>StateCode=%{location}<br>MH_Benefits=%{z}<extra></extra>\",\"hovertext\":[66.66666666666667,66.66666666666667,72.44897959183673,35.0,50.0,53.84615384615385,50.0,33.333333333333336,50.0,70.0,100.0,44.44444444444444,100.0,75.0,63.63636363636363,58.333333333333336,78.37837837837837,50.0,75.0,57.142857142857146,0.0,100.0,33.333333333333336,100.0,68.96551724137932,57.142857142857146,72.72727272727273,40.0,51.851851851851855,65.21739130434783,50.0,0.0,50.0,57.142857142857146,54.166666666666664,50.0,33.333333333333336,38.46153846153846,64.51612903225806,83.33333333333333,100.0,100.0,0.0,100.0,100.0],\"locationmode\":\"USA-states\",\"locations\":[\"AL\",\"AZ\",\"CA\",\"CO\",\"CT\",\"FL\",\"GA\",\"ID\",\"IL\",\"IN\",\"IA\",\"KS\",\"KY\",\"ME\",\"MD\",\"MA\",\"MI\",\"MN\",\"MO\",\"NE\",\"NV\",\"NH\",\"NJ\",\"NM\",\"NY\",\"NC\",\"OH\",\"OK\",\"OR\",\"PA\",\"RI\",\"SC\",\"SD\",\"TN\",\"TX\",\"UT\",\"VT\",\"VA\",\"WA\",\"WI\",\"AK\",\"DE\",\"LA\",\"MT\",\"WV\"],\"name\":\"\",\"z\":[66.66666666666667,66.66666666666667,72.44897959183673,35.0,50.0,53.84615384615385,50.0,33.333333333333336,50.0,70.0,100.0,44.44444444444444,100.0,75.0,63.63636363636363,58.333333333333336,78.37837837837837,50.0,75.0,57.142857142857146,0.0,100.0,33.333333333333336,100.0,68.96551724137932,57.142857142857146,72.72727272727273,40.0,51.851851851851855,65.21739130434783,50.0,0.0,50.0,57.142857142857146,54.166666666666664,50.0,33.333333333333336,38.46153846153846,64.51612903225806,83.33333333333333,100.0,100.0,0.0,100.0,100.0],\"type\":\"choropleth\"}],\"name\":\"2016\"},{\"data\":[{\"coloraxis\":\"coloraxis\",\"geo\":\"geo\",\"hovertemplate\":\"<b>%{hovertext}</b><br><br>year=2017<br>StateCode=%{location}<br>MH_Benefits=%{z}<extra></extra>\",\"hovertext\":[100.0,50.0,80.43478260869566,100.0,0.0,0.0,50.0,0.0,81.9672131147541,32.0,60.0,88.88888888888889,69.23076923076923,81.25,73.33333333333333,66.66666666666667,53.333333333333336,100.0,0.0,100.0,100.0,40.0,100.0,52.63157894736842,60.0,100.0,100.0,100.0,46.15384615384615,62.5,80.0,75.0,83.33333333333333,50.0,0.0,0.0],\"locationmode\":\"USA-states\",\"locations\":[\"AL\",\"AZ\",\"CA\",\"CO\",\"CT\",\"FL\",\"GA\",\"ID\",\"IL\",\"IN\",\"IA\",\"MD\",\"MA\",\"MI\",\"MN\",\"MO\",\"NE\",\"NV\",\"NH\",\"NJ\",\"NM\",\"NY\",\"NC\",\"OH\",\"OR\",\"PA\",\"SC\",\"SD\",\"TN\",\"TX\",\"UT\",\"VA\",\"WA\",\"WI\",\"LA\",\"MT\"],\"name\":\"\",\"z\":[100.0,50.0,80.43478260869566,100.0,0.0,0.0,50.0,0.0,81.9672131147541,32.0,60.0,88.88888888888889,69.23076923076923,81.25,73.33333333333333,66.66666666666667,53.333333333333336,100.0,0.0,100.0,100.0,40.0,100.0,52.63157894736842,60.0,100.0,100.0,100.0,46.15384615384615,62.5,80.0,75.0,83.33333333333333,50.0,0.0,0.0],\"type\":\"choropleth\"}],\"name\":\"2017\"},{\"data\":[{\"coloraxis\":\"coloraxis\",\"geo\":\"geo\",\"hovertemplate\":\"<b>%{hovertext}</b><br><br>year=2019<br>StateCode=%{location}<br>MH_Benefits=%{z}<extra></extra>\",\"hovertext\":[100.0,75.0,50.0,0.0,100.0,75.0,50.0,50.0,50.0,0.0,66.66666666666667,100.0,66.66666666666667,100.0,100.0,50.0,55.55555555555556,50.0,60.0,60.0,66.66666666666667,33.333333333333336,100.0,66.66666666666667,0.0,50.0,55.55555555555556,100.0,100.0,0.0],\"locationmode\":\"USA-states\",\"locations\":[\"AZ\",\"CA\",\"CO\",\"CT\",\"FL\",\"GA\",\"IL\",\"IN\",\"KS\",\"ME\",\"MD\",\"MA\",\"MI\",\"MN\",\"MO\",\"NE\",\"NY\",\"NC\",\"OH\",\"OR\",\"PA\",\"TN\",\"TX\",\"UT\",\"VT\",\"VA\",\"WA\",\"WI\",\"AK\",\"LA\"],\"name\":\"\",\"z\":[100.0,75.0,50.0,0.0,100.0,75.0,50.0,50.0,50.0,0.0,66.66666666666667,100.0,66.66666666666667,100.0,100.0,50.0,55.55555555555556,50.0,60.0,60.0,66.66666666666667,33.333333333333336,100.0,66.66666666666667,0.0,50.0,55.55555555555556,100.0,100.0,0.0],\"type\":\"choropleth\"}],\"name\":\"2019\"},{\"data\":[{\"coloraxis\":\"coloraxis\",\"geo\":\"geo\",\"hovertemplate\":\"<b>%{hovertext}</b><br><br>year=2018<br>StateCode=%{location}<br>MH_Benefits=%{z}<extra></extra>\",\"hovertext\":[68.0,50.0,0.0,40.0,40.0,0.0,75.75757575757575,66.66666666666667,100.0,0.0,50.0,81.81818181818181,71.42857142857143,50.0,75.0,75.0,100.0,66.66666666666667,60.0,0.0,50.0,100.0,80.0,83.33333333333333,72.72727272727273,100.0,100.0,60.0,70.0,0.0,0.0,90.9090909090909,71.42857142857143,100.0],\"locationmode\":\"USA-states\",\"locations\":[\"CA\",\"CO\",\"CT\",\"FL\",\"GA\",\"ID\",\"IL\",\"IN\",\"IA\",\"KS\",\"KY\",\"MA\",\"MI\",\"MN\",\"MO\",\"NE\",\"NV\",\"NH\",\"NJ\",\"NM\",\"NY\",\"NC\",\"OH\",\"OR\",\"PA\",\"RI\",\"SC\",\"TN\",\"TX\",\"UT\",\"VA\",\"WA\",\"WI\",\"ND\"],\"name\":\"\",\"z\":[68.0,50.0,0.0,40.0,40.0,0.0,75.75757575757575,66.66666666666667,100.0,0.0,50.0,81.81818181818181,71.42857142857143,50.0,75.0,75.0,100.0,66.66666666666667,60.0,0.0,50.0,100.0,80.0,83.33333333333333,72.72727272727273,100.0,100.0,60.0,70.0,0.0,0.0,90.9090909090909,71.42857142857143,100.0],\"type\":\"choropleth\"}],\"name\":\"2018\"}]);\n",
       "                        }).then(function(){\n",
       "                            \n",
       "var gd = document.getElementById('55e70373-e0c7-4516-993d-afa4e2f87f4a');\n",
       "var x = new MutationObserver(function (mutations, observer) {{\n",
       "        var display = window.getComputedStyle(gd).display;\n",
       "        if (!display || display === 'none') {{\n",
       "            console.log([gd, 'removed!']);\n",
       "            Plotly.purge(gd);\n",
       "            observer.disconnect();\n",
       "        }}\n",
       "}});\n",
       "\n",
       "// Listen for the removal of the full notebook cells\n",
       "var notebookContainer = gd.closest('#notebook-container');\n",
       "if (notebookContainer) {{\n",
       "    x.observe(notebookContainer, {childList: true});\n",
       "}}\n",
       "\n",
       "// Listen for the clearing of the current output cell\n",
       "var outputEl = gd.closest('.output');\n",
       "if (outputEl) {{\n",
       "    x.observe(outputEl, {childList: true});\n",
       "}}\n",
       "\n",
       "                        })                };                });            </script>        </div>"
      ]
     },
     "metadata": {},
     "output_type": "display_data"
    }
   ],
   "source": [
    "#the highest state those surveyes coming from and self employment \n",
    "#map chart\n",
    "\n",
    "query = \"\"\"\n",
    "SELECT year, state, \n",
    "      (COUNT(Mental_Health_benfits)*100.0/COUNT(*)) AS MH_Benefits\n",
    "FROM (\n",
    " SELECT UserID,SurveyID AS year,\n",
    "        MAX(CASE WHEN (QuestionID == 4  AND AnswerText !=-1) THEN AnswerText END) AS state,\n",
    "        MAX(CASE WHEN (QuestionID == 5   AND AnswerText !=1) THEN AnswerText END) AS Self_Employed,\n",
    "        MAX(CASE WHEN (QuestionID == 9 AND AnswerText == 1) THEN AnswerText END) AS Tech_company,\n",
    "        MAX(CASE WHEN (QuestionID == 10 AND AnswerText LIKE '%Yes%') THEN  1 END) AS Mental_Health_benfits,\n",
    "\n",
    "        COUNT (*) as count\n",
    "\n",
    " FROM Answer\n",
    " WHERE   (QuestionID IN (4, 5,7,9, 10) )\n",
    "\n",
    "         \n",
    "GROUP BY UserID\n",
    "HAVING state IS NOT NULL\n",
    "       AND Self_Employed IS NOT NULL\n",
    "       AND Tech_company IS NOT NULL   \n",
    ")\n",
    "GROUP BY year, state\n",
    "ORDER BY year\n",
    "\"\"\"\n",
    "#Question 4 which state ? remove -1 (outside USA)\n",
    "#Question 5 are you self employed\n",
    "#Question 7: how many \n",
    "#Question 9: Is your employer primarily a tech company/organization?\n",
    "\n",
    "\n",
    "df = pd.read_sql(query, con)\n",
    "merged_df = pd.merge(df, state_appreviation ,on=\"state\")\n",
    "fig = px.choropleth(merged_df,\n",
    "                    locations=\"StateCode\",\n",
    "                    locationmode=\"USA-states\",\n",
    "                    color=\"MH_Benefits\", \n",
    "                    hover_name = \"MH_Benefits\",\n",
    "                    color_continuous_scale=px.colors.sequential.Reds,\n",
    "                    animation_frame=\"year\",\n",
    "                    scope=\"usa\"\n",
    "               )\n",
    "\n",
    "fig.update_layout(\n",
    "    title={\n",
    "        'text': 'Percentage of Mental Health Benefits Provided by Employers in US States',\n",
    "        'y':0.95,\n",
    "        'x':0.1,\n",
    "        'xanchor': 'center',\n",
    "        'yanchor': 'top'\n",
    "    }\n",
    ")\n",
    "fig.show()\n"
   ]
  },
  {
   "cell_type": "code",
   "execution_count": 9,
   "id": "280f7d5a",
   "metadata": {
    "execution": {
     "iopub.execute_input": "2023-03-04T17:34:51.975807Z",
     "iopub.status.busy": "2023-03-04T17:34:51.973378Z",
     "iopub.status.idle": "2023-03-04T17:34:52.296064Z",
     "shell.execute_reply": "2023-03-04T17:34:52.294853Z"
    },
    "papermill": {
     "duration": 0.339571,
     "end_time": "2023-03-04T17:34:52.298696",
     "exception": false,
     "start_time": "2023-03-04T17:34:51.959125",
     "status": "completed"
    },
    "tags": []
   },
   "outputs": [
    {
     "data": {
      "image/png": "[encoded data removed]",
      "text/plain": [
       "<Figure size 432x288 with 1 Axes>"
      ]
     },
     "metadata": {
      "needs_background": "light"
     },
     "output_type": "display_data"
    }
   ],
   "source": [
    "#What percentage of employees have disclosed having a mental health disorder to their employer or coworkers?\n",
    "#We can find the answer by analysing question 58 and 60\n",
    "#Question 58: Have you ever discussed your mental health with your employer?\n",
    "#Question 60: Have you ever discussed your mental health with coworkers?\n",
    "\n",
    "query = \"\"\"\n",
    "SELECT Discuss,\n",
    "       (COUNT(female)*100.0/COUNT()) AS female_Percentage,\n",
    "       (COUNT(male)*100.0/COUNT()) AS male_Percentage\n",
    "FROM (\n",
    " SELECT UserID,SurveyID AS year,\n",
    "        MAX(CASE WHEN (QuestionID == 2 AND AnswerText LIKE '%emale%') THEN 1 END) AS female,\n",
    "        MAX(CASE WHEN (QuestionID == 2 AND AnswerText == 'male' OR AnswerText == 'Male' ) THEN 1 END) AS male,\n",
    "        MAX(CASE WHEN (QuestionID == 4  AND AnswerText !=-1) THEN AnswerText END) AS state,\n",
    "        MAX(CASE WHEN (QuestionID == 5  AND AnswerText != 1) THEN AnswerText END) AS Self_Employed,\n",
    "        MAX(CASE WHEN (QuestionID == 13  AND AnswerText == 1) THEN AnswerText END) AS Tech_company,\n",
    "    COALESCE(\n",
    "        MAX(CASE WHEN (QuestionID = 58 AND AnswerText = 1) THEN 'employer'  END),\n",
    "        MAX(CASE WHEN (QuestionID = 60 AND AnswerText = 1) THEN 'coworker'  END)\n",
    "    ) AS Discuss,\n",
    "\n",
    "        COUNT (*) as count\n",
    "\n",
    " FROM Answer\n",
    " WHERE   QuestionID == 4 \n",
    "         OR QuestionID IN (2,4,5,13, 58,60) \n",
    "\n",
    "         \n",
    "GROUP BY UserID\n",
    "HAVING state IS NOT NULL\n",
    "       AND Self_Employed IS NOT NULL\n",
    "       AND Tech_company IS NOT NULL  \n",
    ")\n",
    "WHERE year IN (2017, 2018, 2019) AND Discuss != 'None'\n",
    "GROUP BY Discuss \n",
    "    \n",
    "\"\"\"\n",
    "#Question2: what is your gender?\n",
    "#Question 4 which state ? to limit the analysis inside the USA\n",
    "#Question 5 are you self employed?  to limit the analysis to companies\n",
    "#Question 9: Is your employer primarily a tech company/organization? to limit to tech\n",
    "\n",
    "df = pd.read_sql(query, con)\n",
    "X_axis = np.arange(len(df['Discuss']))\n",
    "\n",
    "plt.bar(X_axis - 0.2, df['female_Percentage'], 0.4, label = 'Female', color = \"#B2182B\")\n",
    "plt.bar(X_axis + 0.2, df['male_Percentage'], 0.4, label = 'Male', color = \"#2166AC\")\n",
    "plt.xticks(X_axis, df['Discuss'])\n",
    "plt.ylabel(\"Average percentage of employee\")\n",
    "plt.title(\"Disclosing having a mental health with their employer and coworker\")\n",
    "#plt.subtitle(\"The average percentage of employees disclosing having a mental health disorder to their employer and coworker\")\n",
    "plt.legend()\n",
    "plt.show()\n",
    "#Are women more likely than men to report experiencing mental health symptoms?\n"
   ]
  },
  {
   "cell_type": "markdown",
   "id": "56704926",
   "metadata": {
    "papermill": {
     "duration": 0.009419,
     "end_time": "2023-03-04T17:34:52.317928",
     "exception": false,
     "start_time": "2023-03-04T17:34:52.308509",
     "status": "completed"
    },
    "tags": []
   },
   "source": [
    "It seems that there are fewer females in both coworker and employer roles compared to males. The percentage of females in coworker roles is lower than that in employer roles. These findings suggest that there may be a gender disparity in the workplace that needs to be addressed."
   ]
  },
  {
   "cell_type": "code",
   "execution_count": 10,
   "id": "4c5b63c8",
   "metadata": {
    "execution": {
     "iopub.execute_input": "2023-03-04T17:34:52.339532Z",
     "iopub.status.busy": "2023-03-04T17:34:52.339034Z",
     "iopub.status.idle": "2023-03-04T17:34:52.484260Z",
     "shell.execute_reply": "2023-03-04T17:34:52.482844Z"
    },
    "papermill": {
     "duration": 0.159394,
     "end_time": "2023-03-04T17:34:52.487149",
     "exception": false,
     "start_time": "2023-03-04T17:34:52.327755",
     "status": "completed"
    },
    "tags": []
   },
   "outputs": [
    {
     "data": {
      "text/html": [
       "<div>                            <div id=\"b6b84d01-6b36-40b9-9326-93a3e8c02163\" class=\"plotly-graph-div\" style=\"height:525px; width:100%;\"></div>            <script type=\"text/javascript\">                require([\"plotly\"], function(Plotly) {                    window.PLOTLYENV=window.PLOTLYENV || {};                                    if (document.getElementById(\"b6b84d01-6b36-40b9-9326-93a3e8c02163\")) {                    Plotly.newPlot(                        \"b6b84d01-6b36-40b9-9326-93a3e8c02163\",                        [{\"hole\":0.5,\"labels\":[\"Mental health\",\"Physical health\",\"Same level of comfort for each\"],\"marker\":{\"colors\":[\"#2166AC\",\"#D6604D\",\"#FFDAB9\"],\"line\":{\"color\":\"#000000\",\"width\":2}},\"name\":\"Y2017\",\"values\":[0.4807692307692308,67.0673076923077,32.45192307692308],\"type\":\"pie\"},{\"hole\":0.5,\"labels\":[\"Mental health\",\"Physical health\",\"Same level of comfort for each\"],\"marker\":{\"colors\":[\"#2166AC\",\"#D6604D\",\"#FFDAB9\"],\"line\":{\"color\":\"#000000\",\"width\":2}},\"name\":\"Y2018\",\"values\":[1.4760147601476015,66.78966789667896,31.73431734317343],\"type\":\"pie\"},{\"hole\":0.5,\"labels\":[\"Physical health\",\"Same level of comfort for each\"],\"marker\":{\"colors\":[\"#2166AC\",\"#D6604D\",\"#FFDAB9\"],\"line\":{\"color\":\"#000000\",\"width\":2}},\"name\":\"Y2019\",\"values\":[69.64285714285714,30.357142857142858],\"type\":\"pie\"}],                        {\"template\":{\"data\":{\"histogram2dcontour\":[{\"type\":\"histogram2dcontour\",\"colorbar\":{\"outlinewidth\":0,\"ticks\":\"\"},\"colorscale\":[[0.0,\"#0d0887\"],[0.1111111111111111,\"#46039f\"],[0.2222222222222222,\"#7201a8\"],[0.3333333333333333,\"#9c179e\"],[0.4444444444444444,\"#bd3786\"],[0.5555555555555556,\"#d8576b\"],[0.6666666666666666,\"#ed7953\"],[0.7777777777777778,\"#fb9f3a\"],[0.8888888888888888,\"#fdca26\"],[1.0,\"#f0f921\"]]}],\"choropleth\":[{\"type\":\"choropleth\",\"colorbar\":{\"outlinewidth\":0,\"ticks\":\"\"}}],\"histogram2d\":[{\"type\":\"histogram2d\",\"colorbar\":{\"outlinewidth\":0,\"ticks\":\"\"},\"colorscale\":[[0.0,\"#0d0887\"],[0.1111111111111111,\"#46039f\"],[0.2222222222222222,\"#7201a8\"],[0.3333333333333333,\"#9c179e\"],[0.4444444444444444,\"#bd3786\"],[0.5555555555555556,\"#d8576b\"],[0.6666666666666666,\"#ed7953\"],[0.7777777777777778,\"#fb9f3a\"],[0.8888888888888888,\"#fdca26\"],[1.0,\"#f0f921\"]]}],\"heatmap\":[{\"type\":\"heatmap\",\"colorbar\":{\"outlinewidth\":0,\"ticks\":\"\"},\"colorscale\":[[0.0,\"#0d0887\"],[0.1111111111111111,\"#46039f\"],[0.2222222222222222,\"#7201a8\"],[0.3333333333333333,\"#9c179e\"],[0.4444444444444444,\"#bd3786\"],[0.5555555555555556,\"#d8576b\"],[0.6666666666666666,\"#ed7953\"],[0.7777777777777778,\"#fb9f3a\"],[0.8888888888888888,\"#fdca26\"],[1.0,\"#f0f921\"]]}],\"heatmapgl\":[{\"type\":\"heatmapgl\",\"colorbar\":{\"outlinewidth\":0,\"ticks\":\"\"},\"colorscale\":[[0.0,\"#0d0887\"],[0.1111111111111111,\"#46039f\"],[0.2222222222222222,\"#7201a8\"],[0.3333333333333333,\"#9c179e\"],[0.4444444444444444,\"#bd3786\"],[0.5555555555555556,\"#d8576b\"],[0.6666666666666666,\"#ed7953\"],[0.7777777777777778,\"#fb9f3a\"],[0.8888888888888888,\"#fdca26\"],[1.0,\"#f0f921\"]]}],\"contourcarpet\":[{\"type\":\"contourcarpet\",\"colorbar\":{\"outlinewidth\":0,\"ticks\":\"\"}}],\"contour\":[{\"type\":\"contour\",\"colorbar\":{\"outlinewidth\":0,\"ticks\":\"\"},\"colorscale\":[[0.0,\"#0d0887\"],[0.1111111111111111,\"#46039f\"],[0.2222222222222222,\"#7201a8\"],[0.3333333333333333,\"#9c179e\"],[0.4444444444444444,\"#bd3786\"],[0.5555555555555556,\"#d8576b\"],[0.6666666666666666,\"#ed7953\"],[0.7777777777777778,\"#fb9f3a\"],[0.8888888888888888,\"#fdca26\"],[1.0,\"#f0f921\"]]}],\"surface\":[{\"type\":\"surface\",\"colorbar\":{\"outlinewidth\":0,\"ticks\":\"\"},\"colorscale\":[[0.0,\"#0d0887\"],[0.1111111111111111,\"#46039f\"],[0.2222222222222222,\"#7201a8\"],[0.3333333333333333,\"#9c179e\"],[0.4444444444444444,\"#bd3786\"],[0.5555555555555556,\"#d8576b\"],[0.6666666666666666,\"#ed7953\"],[0.7777777777777778,\"#fb9f3a\"],[0.8888888888888888,\"#fdca26\"],[1.0,\"#f0f921\"]]}],\"mesh3d\":[{\"type\":\"mesh3d\",\"colorbar\":{\"outlinewidth\":0,\"ticks\":\"\"}}],\"scatter\":[{\"fillpattern\":{\"fillmode\":\"overlay\",\"size\":10,\"solidity\":0.2},\"type\":\"scatter\"}],\"parcoords\":[{\"type\":\"parcoords\",\"line\":{\"colorbar\":{\"outlinewidth\":0,\"ticks\":\"\"}}}],\"scatterpolargl\":[{\"type\":\"scatterpolargl\",\"marker\":{\"colorbar\":{\"outlinewidth\":0,\"ticks\":\"\"}}}],\"bar\":[{\"error_x\":{\"color\":\"#2a3f5f\"},\"error_y\":{\"color\":\"#2a3f5f\"},\"marker\":{\"line\":{\"color\":\"#E5ECF6\",\"width\":0.5},\"pattern\":{\"fillmode\":\"overlay\",\"size\":10,\"solidity\":0.2}},\"type\":\"bar\"}],\"scattergeo\":[{\"type\":\"scattergeo\",\"marker\":{\"colorbar\":{\"outlinewidth\":0,\"ticks\":\"\"}}}],\"scatterpolar\":[{\"type\":\"scatterpolar\",\"marker\":{\"colorbar\":{\"outlinewidth\":0,\"ticks\":\"\"}}}],\"histogram\":[{\"marker\":{\"pattern\":{\"fillmode\":\"overlay\",\"size\":10,\"solidity\":0.2}},\"type\":\"histogram\"}],\"scattergl\":[{\"type\":\"scattergl\",\"marker\":{\"colorbar\":{\"outlinewidth\":0,\"ticks\":\"\"}}}],\"scatter3d\":[{\"type\":\"scatter3d\",\"line\":{\"colorbar\":{\"outlinewidth\":0,\"ticks\":\"\"}},\"marker\":{\"colorbar\":{\"outlinewidth\":0,\"ticks\":\"\"}}}],\"scattermapbox\":[{\"type\":\"scattermapbox\",\"marker\":{\"colorbar\":{\"outlinewidth\":0,\"ticks\":\"\"}}}],\"scatterternary\":[{\"type\":\"scatterternary\",\"marker\":{\"colorbar\":{\"outlinewidth\":0,\"ticks\":\"\"}}}],\"scattercarpet\":[{\"type\":\"scattercarpet\",\"marker\":{\"colorbar\":{\"outlinewidth\":0,\"ticks\":\"\"}}}],\"carpet\":[{\"aaxis\":{\"endlinecolor\":\"#2a3f5f\",\"gridcolor\":\"white\",\"linecolor\":\"white\",\"minorgridcolor\":\"white\",\"startlinecolor\":\"#2a3f5f\"},\"baxis\":{\"endlinecolor\":\"#2a3f5f\",\"gridcolor\":\"white\",\"linecolor\":\"white\",\"minorgridcolor\":\"white\",\"startlinecolor\":\"#2a3f5f\"},\"type\":\"carpet\"}],\"table\":[{\"cells\":{\"fill\":{\"color\":\"#EBF0F8\"},\"line\":{\"color\":\"white\"}},\"header\":{\"fill\":{\"color\":\"#C8D4E3\"},\"line\":{\"color\":\"white\"}},\"type\":\"table\"}],\"barpolar\":[{\"marker\":{\"line\":{\"color\":\"#E5ECF6\",\"width\":0.5},\"pattern\":{\"fillmode\":\"overlay\",\"size\":10,\"solidity\":0.2}},\"type\":\"barpolar\"}],\"pie\":[{\"automargin\":true,\"type\":\"pie\"}]},\"layout\":{\"autotypenumbers\":\"strict\",\"colorway\":[\"#636efa\",\"#EF553B\",\"#00cc96\",\"#ab63fa\",\"#FFA15A\",\"#19d3f3\",\"#FF6692\",\"#B6E880\",\"#FF97FF\",\"#FECB52\"],\"font\":{\"color\":\"#2a3f5f\"},\"hovermode\":\"closest\",\"hoverlabel\":{\"align\":\"left\"},\"paper_bgcolor\":\"white\",\"plot_bgcolor\":\"#E5ECF6\",\"polar\":{\"bgcolor\":\"#E5ECF6\",\"angularaxis\":{\"gridcolor\":\"white\",\"linecolor\":\"white\",\"ticks\":\"\"},\"radialaxis\":{\"gridcolor\":\"white\",\"linecolor\":\"white\",\"ticks\":\"\"}},\"ternary\":{\"bgcolor\":\"#E5ECF6\",\"aaxis\":{\"gridcolor\":\"white\",\"linecolor\":\"white\",\"ticks\":\"\"},\"baxis\":{\"gridcolor\":\"white\",\"linecolor\":\"white\",\"ticks\":\"\"},\"caxis\":{\"gridcolor\":\"white\",\"linecolor\":\"white\",\"ticks\":\"\"}},\"coloraxis\":{\"colorbar\":{\"outlinewidth\":0,\"ticks\":\"\"}},\"colorscale\":{\"sequential\":[[0.0,\"#0d0887\"],[0.1111111111111111,\"#46039f\"],[0.2222222222222222,\"#7201a8\"],[0.3333333333333333,\"#9c179e\"],[0.4444444444444444,\"#bd3786\"],[0.5555555555555556,\"#d8576b\"],[0.6666666666666666,\"#ed7953\"],[0.7777777777777778,\"#fb9f3a\"],[0.8888888888888888,\"#fdca26\"],[1.0,\"#f0f921\"]],\"sequentialminus\":[[0.0,\"#0d0887\"],[0.1111111111111111,\"#46039f\"],[0.2222222222222222,\"#7201a8\"],[0.3333333333333333,\"#9c179e\"],[0.4444444444444444,\"#bd3786\"],[0.5555555555555556,\"#d8576b\"],[0.6666666666666666,\"#ed7953\"],[0.7777777777777778,\"#fb9f3a\"],[0.8888888888888888,\"#fdca26\"],[1.0,\"#f0f921\"]],\"diverging\":[[0,\"#8e0152\"],[0.1,\"#c51b7d\"],[0.2,\"#de77ae\"],[0.3,\"#f1b6da\"],[0.4,\"#fde0ef\"],[0.5,\"#f7f7f7\"],[0.6,\"#e6f5d0\"],[0.7,\"#b8e186\"],[0.8,\"#7fbc41\"],[0.9,\"#4d9221\"],[1,\"#276419\"]]},\"xaxis\":{\"gridcolor\":\"white\",\"linecolor\":\"white\",\"ticks\":\"\",\"title\":{\"standoff\":15},\"zerolinecolor\":\"white\",\"automargin\":true,\"zerolinewidth\":2},\"yaxis\":{\"gridcolor\":\"white\",\"linecolor\":\"white\",\"ticks\":\"\",\"title\":{\"standoff\":15},\"zerolinecolor\":\"white\",\"automargin\":true,\"zerolinewidth\":2},\"scene\":{\"xaxis\":{\"backgroundcolor\":\"#E5ECF6\",\"gridcolor\":\"white\",\"linecolor\":\"white\",\"showbackground\":true,\"ticks\":\"\",\"zerolinecolor\":\"white\",\"gridwidth\":2},\"yaxis\":{\"backgroundcolor\":\"#E5ECF6\",\"gridcolor\":\"white\",\"linecolor\":\"white\",\"showbackground\":true,\"ticks\":\"\",\"zerolinecolor\":\"white\",\"gridwidth\":2},\"zaxis\":{\"backgroundcolor\":\"#E5ECF6\",\"gridcolor\":\"white\",\"linecolor\":\"white\",\"showbackground\":true,\"ticks\":\"\",\"zerolinecolor\":\"white\",\"gridwidth\":2}},\"shapedefaults\":{\"line\":{\"color\":\"#2a3f5f\"}},\"annotationdefaults\":{\"arrowcolor\":\"#2a3f5f\",\"arrowhead\":0,\"arrowwidth\":1},\"geo\":{\"bgcolor\":\"white\",\"landcolor\":\"#E5ECF6\",\"subunitcolor\":\"white\",\"showland\":true,\"showlakes\":true,\"lakecolor\":\"white\"},\"title\":{\"x\":0.05},\"mapbox\":{\"style\":\"light\"}}},\"title\":{\"text\":\"Comfort Levels for Mental and Physical Health Discussions\"},\"updatemenus\":[{\"active\":0,\"buttons\":[{\"args\":[{\"visible\":[true,false,false]},{\"title\":\"Comfort Levels for Mental and Physical Health Discussions in 2017\",\"showactive\":true}],\"label\":\"Y2017\",\"method\":\"update\"},{\"args\":[{\"visible\":[false,true,false]},{\"title\":\"Comfort Levels for Mental and Physical Health Discussions in 2018\",\"showactive\":true}],\"label\":\"Y2018\",\"method\":\"update\"},{\"args\":[{\"visible\":[false,false,true]},{\"title\":\"Comfort Levels for Mental and Physical Health Discussions in 2019\",\"showactive\":true}],\"label\":\"Y2019\",\"method\":\"update\"}]}]},                        {\"responsive\": true}                    ).then(function(){\n",
       "                            \n",
       "var gd = document.getElementById('b6b84d01-6b36-40b9-9326-93a3e8c02163');\n",
       "var x = new MutationObserver(function (mutations, observer) {{\n",
       "        var display = window.getComputedStyle(gd).display;\n",
       "        if (!display || display === 'none') {{\n",
       "            console.log([gd, 'removed!']);\n",
       "            Plotly.purge(gd);\n",
       "            observer.disconnect();\n",
       "        }}\n",
       "}});\n",
       "\n",
       "// Listen for the removal of the full notebook cells\n",
       "var notebookContainer = gd.closest('#notebook-container');\n",
       "if (notebookContainer) {{\n",
       "    x.observe(notebookContainer, {childList: true});\n",
       "}}\n",
       "\n",
       "// Listen for the clearing of the current output cell\n",
       "var outputEl = gd.closest('.output');\n",
       "if (outputEl) {{\n",
       "    x.observe(outputEl, {childList: true});\n",
       "}}\n",
       "\n",
       "                        })                };                });            </script>        </div>"
      ]
     },
     "metadata": {},
     "output_type": "display_data"
    }
   ],
   "source": [
    "query = \"\"\"\n",
    "SELECT Comfortance,\n",
    "    SUM(CASE year WHEN 2017 THEN percentage END) AS Y2017,\n",
    "    SUM(CASE year WHEN 2018 THEN percentage END) AS Y2018,\n",
    "    SUM(CASE year WHEN 2019 THEN percentage END) AS Y2019\n",
    "FROM (\n",
    "    SELECT year, Comfortance,\n",
    "        COUNT(*) * 100.0 / SUM(COUNT(*)) OVER (PARTITION BY year) AS percentage\n",
    "    FROM (\n",
    "        SELECT SurveyID AS year, \n",
    "        MAX(CASE WHEN (QuestionID == 4  AND AnswerText !=-1) THEN 1 END) AS state,\n",
    "        MAX(CASE WHEN (QuestionID == 5  AND AnswerText != 1) THEN 1 END) AS Self_Employed,\n",
    "        MAX(CASE WHEN (QuestionID == 13  AND AnswerText == 1) THEN AnswerText END) AS Tech_company,\n",
    "        MAX(CASE WHEN (QuestionID == 57) THEN AnswerText END) AS Comfortance,\n",
    "        COUNT (*) as count\n",
    "        \n",
    "        FROM Answer\n",
    "        WHERE QuestionID IN (4, 5, 13, 57)\n",
    "        GROUP BY UserID, SurveyID\n",
    "        HAVING state IS NOT NULL\n",
    "               AND Self_Employed IS NOT NULL\n",
    "               AND Tech_company IS NOT NULL \n",
    "    ) AS t\n",
    "    GROUP BY year, Comfortance\n",
    ") AS t2\n",
    "\n",
    "GROUP BY Comfortance\n",
    "\n",
    "\"\"\"\n",
    "\n",
    "df = pd.read_sql(query, con)\n",
    "comfortance_colors = {\n",
    "    'Mental health': '#2166AC',\n",
    "    'Physical health': '#D6604D',\n",
    "    'Same level of comfort for each': '#FFDAB9'\n",
    "}\n",
    "\n",
    "# Create a list of colors for each value in the 'Comfortance' column\n",
    "colors = [comfortance_colors[x] for x in df['Comfortance'].dropna()]\n",
    "# Set the colors for the pie chart\n",
    "#colors = ['#FFDAB9', '#D6604D', '#2166AC']\n",
    "\n",
    "# Create the figure\n",
    "fig = go.Figure()\n",
    "\n",
    "# Add the traces for each year\n",
    "for year in df.columns[1:]:\n",
    "    # Filter out the NaN values\n",
    "    data = df[['Comfortance', year]].dropna()\n",
    "    fig.add_trace(go.Pie(labels=data['Comfortance'],\n",
    "                         values=data[year], \n",
    "                         hole=.5,\n",
    "                         name=str(year), \n",
    "                         marker_colors=colors))\n",
    "\n",
    "# Update the layout\n",
    "fig.update_layout(\n",
    "    title=\"Comfort Levels for Mental and Physical Health Discussions\",\n",
    "    updatemenus=[go.layout.Updatemenu(\n",
    "        active=0,\n",
    "        buttons=list([\n",
    "            dict(label=\"Y2017\",\n",
    "                 method=\"update\",\n",
    "                 args=[{\"visible\": [True, False, False]},\n",
    "                       {\"title\": \"Comfort Levels for Mental and Physical Health Discussions in 2017\",'showactive':True}]),\n",
    "            dict(label=\"Y2018\",\n",
    "                 method=\"update\",\n",
    "                 args=[{\"visible\": [False, True, False]},\n",
    "                       {\"title\": \"Comfort Levels for Mental and Physical Health Discussions in 2018\",'showactive':True}]),\n",
    "            dict(label=\"Y2019\",\n",
    "                 method=\"update\",\n",
    "                 args=[{\"visible\": [False, False, True]},\n",
    "                       {\"title\": \"Comfort Levels for Mental and Physical Health Discussions in 2019\",'showactive':True}])\n",
    "        ])\n",
    "    )\n",
    "])\n",
    "fig.update_traces(marker=dict(colors=colors, line=dict(color='#000000', width=2)))\n",
    "\n",
    "# Show the plot\n",
    "fig.show()"
   ]
  },
  {
   "cell_type": "markdown",
   "id": "1554b58b",
   "metadata": {
    "papermill": {
     "duration": 0.010075,
     "end_time": "2023-03-04T17:34:52.508672",
     "exception": false,
     "start_time": "2023-03-04T17:34:52.498597",
     "status": "completed"
    },
    "tags": []
   },
   "source": [
    "While the percentage of respondents who reported feeling comfortable discussing physical health issues continued to increase. Therefore, there is not enough information to draw a clear conclusion about the trend in comfort level for mental health discussions over time."
   ]
  },
  {
   "cell_type": "code",
   "execution_count": 11,
   "id": "9dddd69c",
   "metadata": {
    "execution": {
     "iopub.execute_input": "2023-03-04T17:34:52.531385Z",
     "iopub.status.busy": "2023-03-04T17:34:52.530964Z",
     "iopub.status.idle": "2023-03-04T17:34:52.852883Z",
     "shell.execute_reply": "2023-03-04T17:34:52.851277Z"
    },
    "papermill": {
     "duration": 0.336686,
     "end_time": "2023-03-04T17:34:52.855746",
     "exception": false,
     "start_time": "2023-03-04T17:34:52.519060",
     "status": "completed"
    },
    "tags": []
   },
   "outputs": [
    {
     "data": {
      "image/png": "[encoded data removed]",
      "text/plain": [
       "<Figure size 432x288 with 1 Axes>"
      ]
     },
     "metadata": {
      "needs_background": "light"
     },
     "output_type": "display_data"
    }
   ],
   "source": [
    "#Question 15: Has your employer ever formally discussed mental health (for example, as part of a wellness campaign or other official communication)?\n",
    "#Question 16: Does your employer offer resources to learn more about mental health disorders and options for seeking help?\n",
    "\n",
    "query = \"\"\"\n",
    "SELECT year, \n",
    "       (COUNT(discussed_MH)*100.0 / COUNT(*)) AS discussed_MH_Percentage,\n",
    "              (COUNT(resources)*100.0 / COUNT(*)) AS resources_Percentage\n",
    "FROM (\n",
    " SELECT UserID,SurveyID AS year,\n",
    "        MAX(CASE WHEN (QuestionID == 4  AND AnswerText !=-1) THEN AnswerText END) AS state,\n",
    "        MAX(CASE WHEN (QuestionID == 5  AND AnswerText != 1) THEN AnswerText END) AS Self_Employed,\n",
    "        MAX(CASE WHEN (QuestionID == 13  AND AnswerText == 1) THEN AnswerText END) AS Tech_company,\n",
    "        MAX(CASE WHEN (QuestionID == 15 AND AnswerText == 'Yes') THEN 1 END) AS discussed_MH,\n",
    "        MAX(CASE WHEN (QuestionID == 16 AND AnswerText == 'Yes') THEN 1 END) AS resources,  \n",
    "        COUNT (*) as count\n",
    "\n",
    " FROM Answer\n",
    " WHERE   QuestionID IN (4,5,13,15,16) \n",
    "\n",
    "         \n",
    "GROUP BY UserID\n",
    "HAVING state IS NOT NULL\n",
    "       AND Self_Employed IS NOT NULL\n",
    "       AND Tech_company IS NOT NULL  \n",
    ")\n",
    "GROUP BY year\n",
    "\n",
    "\"\"\"\n",
    "df = pd.read_sql(query, con)\n",
    "\n",
    "fig, ax = plt.subplots()\n",
    "x = np.arange(len(df['year']))\n",
    "width = 0.35\n",
    "rects1 = ax.bar(x - width/2, df['discussed_MH_Percentage'], width, label='Formal Discuss', color = '#FDDBC7')\n",
    "rects2 = ax.bar(x + width/2, df['resources_Percentage'], width, label='Resources', color = '#D6604D')\n",
    "\n",
    "# Add labels and titles\n",
    "ax.set_xlabel('Year')\n",
    "ax.set_ylabel('Percentage')\n",
    "ax.set_title('Percentage of Employees Receiving Formal Mental Health Discussions and Resources by Year')\n",
    "ax.set_xticks(x)\n",
    "ax.set_xticklabels(df['year'])\n",
    "ax.legend()\n",
    "\n",
    "# Display the chart\n",
    "plt.show()"
   ]
  },
  {
   "cell_type": "markdown",
   "id": "bc18ca18",
   "metadata": {
    "papermill": {
     "duration": 0.010779,
     "end_time": "2023-03-04T17:34:52.877276",
     "exception": false,
     "start_time": "2023-03-04T17:34:52.866497",
     "status": "completed"
    },
    "tags": []
   },
   "source": [
    "Looking at the stacked bar chart, we can see that the Comfortance Percentage has increased from 25.8% in 2016 to 35.1% in 2019, while the Resources Percentage has remained relatively stable, fluctuating between 32.5% and 36.3%.\n",
    "\n",
    "One possible interpretation of this data is that while employers are becoming more comfortable discussing mental health with their employees, they are not necessarily providing more resources to help employees learn about mental health disorders and seek help. This could be a potential area for improvement for employers looking to promote mental health in the workplace.\n",
    "\n",
    "Another interesting point to note is that the most common source of discomfort in discussing mental health is with regards to mental health specifically, as opposed to physical health or a consistent level of comfort across all health topics. This highlights the need for employers to specifically address mental health in their wellness programs and communication efforts.\n",
    "\n",
    "Overall, this data suggests that while progress is being made in terms of employers' willingness to discuss mental health, there is still work to be done in terms of providing resources and support for employees.\n"
   ]
  }
 ],
 "metadata": {
  "kernelspec": {
   "display_name": "Python 3",
   "language": "python",
   "name": "python3"
  },
  "language_info": {
   "codemirror_mode": {
    "name": "ipython",
    "version": 3
   },
   "file_extension": ".py",
   "mimetype": "text/x-python",
   "name": "python",
   "nbconvert_exporter": "python",
   "pygments_lexer": "ipython3",
   "version": "3.7.12"
  },
  "papermill": {
   "default_parameters": {},
   "duration": 18.510324,
   "end_time": "2023-03-04T17:34:53.812347",
   "environment_variables": {},
   "exception": null,
   "input_path": "__notebook__.ipynb",
   "output_path": "__notebook__.ipynb",
   "parameters": {},
   "start_time": "2023-03-04T17:34:35.302023",
   "version": "2.3.4"
  }
 },
 "nbformat": 4,
 "nbformat_minor": 5
}
