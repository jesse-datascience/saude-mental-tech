{
 "cells": [
  {
   "cell_type": "code",
   "execution_count": 1,
   "metadata": {},
   "outputs": [],
   "source": [
    "import pandas as pd"
   ]
  },
  {
   "cell_type": "code",
   "execution_count": 3,
   "metadata": {},
   "outputs": [],
   "source": [
    "df = pd.read_csv('mental_health.csv')"
   ]
  },
  {
   "cell_type": "code",
   "execution_count": 4,
   "metadata": {},
   "outputs": [
    {
     "data": {
      "text/plain": [
       "Index(['Você é autônomo?',\n",
       "       'Quantos funcionários sua empresa ou organização possui?',\n",
       "       'Seu empregador é principalmente uma empresa/organização de tecnologia?',\n",
       "       'O seu papel principal na sua empresa está relacionado à tecnologia/TI?',\n",
       "       'O seu empregador oferece benefícios de saúde mental como parte da cobertura de saúde?',\n",
       "       'Você conhece as opções de cuidados de saúde mental disponíveis sob sua cobertura de saúde fornecida pelo empregador?',\n",
       "       'Seu empregador já discutiu formalmente a saúde mental (por exemplo, como parte de uma campanha de bem -estar ou outra comunicação oficial)?',\n",
       "       'O seu empregador oferece recursos para aprender mais sobre distúrbios de saúde mental e opções para procurar ajuda?',\n",
       "       'O seu anonimato está protegido se você optar por aproveitar os recursos de tratamento de saúde mental ou abuso de substâncias fornecidos pelo seu empregador?',\n",
       "       'Se um problema de saúde mental o levou a solicitar uma licença médica do trabalho, quão fácil ou difícil seria pedir essa licença?',\n",
       "       'Você se sentiria mais confortável conversando com seus colegas de trabalho sobre sua saúde física ou sua saúde mental?',\n",
       "       'Você se sentiria à vontade para discutir um problema de saúde mental com seu (s) supervisor (s) direto (s)?',\n",
       "       'Você já discutiu sua saúde mental com seu empregador?',\n",
       "       'Você se sentiria à vontade para discutir um problema de saúde mental com seus colegas de trabalho?',\n",
       "       'Você já discutiu sua saúde mental com colegas de trabalho?',\n",
       "       'Você já teve um colega de trabalho discutir a saúde mental de seu ou outro colega de trabalho com você?',\n",
       "       'No geral, quanta importância seu empregador coloca na saúde física?',\n",
       "       'No geral, quanta importância seu empregador coloca na saúde mental?',\n",
       "       'Seu empregador era principalmente uma empresa/organização de tecnologia?',\n",
       "       'Você estaria disposto a discutir sua saúde mental com seu (s) supervisor (s) direto (s)?',\n",
       "       'Você atualmente tem um distúrbio de saúde mental?',\n",
       "       'Você já teve um distúrbio de saúde mental no passado?',\n",
       "       'Você já procurou tratamento para um distúrbio de saúde mental de um profissional de saúde mental?',\n",
       "       'Você tem um histórico familiar de doença mental?',\n",
       "       'Se você tem um distúrbio de saúde mental, com que frequência sente que isso interfere no seu trabalho ao ser tratado de maneira eficaz?',\n",
       "       'Se você tem um distúrbio de saúde mental, com que frequência sente que isso interfere no seu trabalho quando não é tratado de maneira eficaz (ou seja, quando você está experimentando sintomas)?',\n",
       "       'Suas observações de como outro indivíduo que discutiu um problema de saúde mental tornou a probabilidade de você revelar um problema de saúde mental no seu local de trabalho atual?',\n",
       "       'Quão disposto você estaria em compartilhar com amigos e familiares que você tem uma doença mental?',\n",
       "       'Você estaria disposto a apresentar um problema de saúde física com um empregador em potencial em uma entrevista?',\n",
       "       'Você traria sua saúde mental com um empregador em potencial em uma entrevista?',\n",
       "       'Você é identificado abertamente no trabalho como uma pessoa com um problema de saúde mental?',\n",
       "       'Se eles soubessem que você sofria de um distúrbio de saúde mental, como você acha que os membros da sua equipe/colegas de trabalho reagiriam?',\n",
       "       'No geral, como você acha que o setor de tecnologia apoia funcionários com problemas de saúde mental?',\n",
       "       'Descreva brevemente o que você acha que o setor como um todo e/ou empregadores poderia fazer para melhorar o apoio à saúde mental aos funcionários.',\n",
       "       'Qual é a sua idade?', 'Qual é o seu gênero?', 'Ano'],\n",
       "      dtype='object')"
      ]
     },
     "execution_count": 4,
     "metadata": {},
     "output_type": "execute_result"
    }
   ],
   "source": [
    "df.columns"
   ]
  },
  {
   "cell_type": "code",
   "execution_count": 5,
   "metadata": {},
   "outputs": [],
   "source": [
    "target = 'Você atualmente tem um distúrbio de saúde mental?'\n",
    "y = df[target]\n",
    "X = df.drop(columns=target)"
   ]
  },
  {
   "cell_type": "code",
   "execution_count": 1,
   "metadata": {},
   "outputs": [
    {
     "ename": "NameError",
     "evalue": "name 'X' is not defined",
     "output_type": "error",
     "traceback": [
      "\u001b[0;31m---------------------------------------------------------------------------\u001b[0m",
      "\u001b[0;31mNameError\u001b[0m                                 Traceback (most recent call last)",
      "Cell \u001b[0;32mIn[1], line 1\u001b[0m\n\u001b[0;32m----> 1\u001b[0m X\u001b[39m.\u001b[39mdtypes\n",
      "\u001b[0;31mNameError\u001b[0m: name 'X' is not defined"
     ]
    }
   ],
   "source": [
    "X.dtypes"
   ]
  }
 ],
 "metadata": {
  "kernelspec": {
   "display_name": "Python 3",
   "language": "python",
   "name": "python3"
  },
  "language_info": {
   "codemirror_mode": {
    "name": "ipython",
    "version": 3
   },
   "file_extension": ".py",
   "mimetype": "text/x-python",
   "name": "python",
   "nbconvert_exporter": "python",
   "pygments_lexer": "ipython3",
   "version": "3.10.8"
  },
  "orig_nbformat": 4
 },
 "nbformat": 4,
 "nbformat_minor": 2
}
