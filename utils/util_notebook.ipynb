{
 "cells": [
  {
   "attachments": {},
   "cell_type": "markdown",
   "metadata": {},
   "source": [
    "## 0. Ambiente Computacional"
   ]
  },
  {
   "cell_type": "code",
   "execution_count": 14,
   "metadata": {},
   "outputs": [],
   "source": [
    "import os\n",
    "import pandas as pd\n",
    "import numpy as np\n",
    "\n",
    "from utils import load_csv_files\n",
    "from utils import checar_cols\n",
    "from utils import comparar_colunas\n",
    "from utils import verificar_ordem_colunas\n",
    "from utils import plot_data\n",
    "from utils import valores_miss_nulls_cols"
   ]
  },
  {
   "attachments": {},
   "cell_type": "markdown",
   "metadata": {},
   "source": [
    "## 1. Pré processamento (parte 2)"
   ]
  },
  {
   "attachments": {},
   "cell_type": "markdown",
   "metadata": {
    "vscode": {
     "languageId": "plaintext"
    }
   },
   "source": [
    "Um pré processamento já foi aplicado usando [preprocessing](./preprocessing.py). \n",
    "\n",
    "Agora se faz necessário checar a integridade de cada arquivo. \n",
    "\n",
    "__Os seguintes tópicos serão abordados nesta fase:__\n",
    "\n",
    "1. Qual o tipo de dados nas colunas após a limpeza?\n",
    "* As colunas permanecem consistentes após a etapa de limpeza?\n",
    "* É possível estabelecer um número mínimo de colunas para todos os anos?\n",
    "\n",
    "2. Tratamento dos valores faltantes/nulos nas colunas restantes:\n",
    "* Qual será o tipo de abordagem para esses valores?"
   ]
  },
  {
   "attachments": {},
   "cell_type": "markdown",
   "metadata": {},
   "source": [
    "### 1.1 Padronização dos nomes das colunas"
   ]
  },
  {
   "cell_type": "code",
   "execution_count": 15,
   "metadata": {},
   "outputs": [],
   "source": [
    "# Carrega os dataframes já pré-processados.\n",
    "file_paths = ['../data/preprocessed_files/2017/2017.csv',\n",
    "              '../data/preprocessed_files/2018/2018.csv',\n",
    "              '../data/preprocessed_files/2019/2019.csv',\n",
    "              '../data/preprocessed_files/2020/2020.csv',\n",
    "              '../data/preprocessed_files/2021/2021.csv',]\n",
    "\n",
    "dfs = load_csv_files(file_paths=file_paths)"
   ]
  },
  {
   "cell_type": "code",
   "execution_count": 16,
   "metadata": {},
   "outputs": [
    {
     "name": "stdout",
     "output_type": "stream",
     "text": [
      "2017/2018: \n",
      "\n",
      "Todos os nomes de colunas são iguais.\n",
      "\n",
      "2017/2019: \n",
      "\n",
      "Colunas que não são iguais: \n",
      "\n",
      "- Se você tem um distúrbio de saúde mental, com que frequência sente que isso interfere no seu trabalho quando não é tratado de maneira eficaz (ou seja, quando você está experimentando sintomas)?: Encontrada no df2, mas não no df1 \n",
      "\n",
      "- Se você tem um distúrbio de saúde mental, com que frequência sente que isso interfere no seu trabalho quando não é tratado de maneira eficaz (ou seja, quando está experimentando sintomas)?: Encontrada no df1, mas não no df2 \n",
      "\n",
      "- Se eles soubessem que você sofria de um distúrbio de saúde mental, como você acha que os membros da sua equipe/colegas de trabalho reagiriam?: Encontrada no df2, mas não no df1 \n",
      "\n",
      "- Você estaria disposto a conversar com um de nós mais extensivamente sobre suas experiências com problemas de saúde mental no setor de tecnologia?(Observe que todas as respostas da entrevista seriam usadas anonimamente e apenas com sua permissão.): Encontrada no df1, mas não no df2 \n",
      "\n",
      "- Você estaria disposto a conversar com um de nós mais extensivamente sobre suas experiências com problemas de saúde mental no setor de tecnologia?(Observe que todas as respostas da entrevista seriam usadas _Anonymly_ e somente com sua permissão.): Encontrada no df2, mas não no df1 \n",
      "\n",
      "- Se eles soubessem que você sofria de um distúrbio de saúde mental, como você acha que os membros da equipe/colegas de trabalho reagiriam?: Encontrada no df1, mas não no df2 \n",
      "\n",
      "\n",
      "2017/2020: \n",
      "\n",
      "Colunas que não são iguais: \n",
      "\n",
      "- Se você tem um distúrbio de saúde mental, com que frequência sente que isso interfere no seu trabalho quando não é tratado de maneira eficaz (ou seja, quando você está experimentando sintomas)?: Encontrada no df2, mas não no df1 \n",
      "\n",
      "- Se você tem um distúrbio de saúde mental, com que frequência sente que isso interfere no seu trabalho quando não é tratado de maneira eficaz (ou seja, quando está experimentando sintomas)?: Encontrada no df1, mas não no df2 \n",
      "\n",
      "- Se eles soubessem que você sofria de um distúrbio de saúde mental, como você acha que os membros da sua equipe/colegas de trabalho reagiriam?: Encontrada no df2, mas não no df1 \n",
      "\n",
      "- Você estaria disposto a conversar com um de nós mais extensivamente sobre suas experiências com problemas de saúde mental no setor de tecnologia?(Observe que todas as respostas da entrevista seriam usadas anonimamente e apenas com sua permissão.): Encontrada no df1, mas não no df2 \n",
      "\n",
      "- Você estaria disposto a conversar com um de nós mais extensivamente sobre suas experiências com problemas de saúde mental no setor de tecnologia?(Observe que todas as respostas da entrevista seriam usadas _Anonymly_ e somente com sua permissão.): Encontrada no df2, mas não no df1 \n",
      "\n",
      "- Se eles soubessem que você sofria de um distúrbio de saúde mental, como você acha que os membros da equipe/colegas de trabalho reagiriam?: Encontrada no df1, mas não no df2 \n",
      "\n",
      "\n",
      "2017/2021: \n",
      "\n",
      "Colunas que não são iguais: \n",
      "\n",
      "- Se você tem um distúrbio de saúde mental, com que frequência sente que isso interfere no seu trabalho quando não é tratado de maneira eficaz (ou seja, quando você está experimentando sintomas)?: Encontrada no df2, mas não no df1 \n",
      "\n",
      "- Se você tem um distúrbio de saúde mental, com que frequência sente que isso interfere no seu trabalho quando não é tratado de maneira eficaz (ou seja, quando está experimentando sintomas)?: Encontrada no df1, mas não no df2 \n",
      "\n",
      "- Se eles soubessem que você sofria de um distúrbio de saúde mental, como você acha que os membros da sua equipe/colegas de trabalho reagiriam?: Encontrada no df2, mas não no df1 \n",
      "\n",
      "- Você estaria disposto a conversar com um de nós mais extensivamente sobre suas experiências com problemas de saúde mental no setor de tecnologia?(Observe que todas as respostas da entrevista seriam usadas anonimamente e apenas com sua permissão.): Encontrada no df1, mas não no df2 \n",
      "\n",
      "- Você estaria disposto a conversar com um de nós mais extensivamente sobre suas experiências com problemas de saúde mental no setor de tecnologia?(Observe que todas as respostas da entrevista seriam usadas _Anonymly_ e somente com sua permissão.): Encontrada no df2, mas não no df1 \n",
      "\n",
      "- Se eles soubessem que você sofria de um distúrbio de saúde mental, como você acha que os membros da equipe/colegas de trabalho reagiriam?: Encontrada no df1, mas não no df2 \n",
      "\n",
      "\n",
      "2018/2019: \n",
      "\n",
      "Colunas que não são iguais: \n",
      "\n",
      "- Se você tem um distúrbio de saúde mental, com que frequência sente que isso interfere no seu trabalho quando não é tratado de maneira eficaz (ou seja, quando você está experimentando sintomas)?: Encontrada no df2, mas não no df1 \n",
      "\n",
      "- Se você tem um distúrbio de saúde mental, com que frequência sente que isso interfere no seu trabalho quando não é tratado de maneira eficaz (ou seja, quando está experimentando sintomas)?: Encontrada no df1, mas não no df2 \n",
      "\n",
      "- Se eles soubessem que você sofria de um distúrbio de saúde mental, como você acha que os membros da sua equipe/colegas de trabalho reagiriam?: Encontrada no df2, mas não no df1 \n",
      "\n",
      "- Você estaria disposto a conversar com um de nós mais extensivamente sobre suas experiências com problemas de saúde mental no setor de tecnologia?(Observe que todas as respostas da entrevista seriam usadas anonimamente e apenas com sua permissão.): Encontrada no df1, mas não no df2 \n",
      "\n",
      "- Você estaria disposto a conversar com um de nós mais extensivamente sobre suas experiências com problemas de saúde mental no setor de tecnologia?(Observe que todas as respostas da entrevista seriam usadas _Anonymly_ e somente com sua permissão.): Encontrada no df2, mas não no df1 \n",
      "\n",
      "- Se eles soubessem que você sofria de um distúrbio de saúde mental, como você acha que os membros da equipe/colegas de trabalho reagiriam?: Encontrada no df1, mas não no df2 \n",
      "\n",
      "\n",
      "2018/2020: \n",
      "\n",
      "Colunas que não são iguais: \n",
      "\n",
      "- Se você tem um distúrbio de saúde mental, com que frequência sente que isso interfere no seu trabalho quando não é tratado de maneira eficaz (ou seja, quando você está experimentando sintomas)?: Encontrada no df2, mas não no df1 \n",
      "\n",
      "- Se você tem um distúrbio de saúde mental, com que frequência sente que isso interfere no seu trabalho quando não é tratado de maneira eficaz (ou seja, quando está experimentando sintomas)?: Encontrada no df1, mas não no df2 \n",
      "\n",
      "- Se eles soubessem que você sofria de um distúrbio de saúde mental, como você acha que os membros da sua equipe/colegas de trabalho reagiriam?: Encontrada no df2, mas não no df1 \n",
      "\n",
      "- Você estaria disposto a conversar com um de nós mais extensivamente sobre suas experiências com problemas de saúde mental no setor de tecnologia?(Observe que todas as respostas da entrevista seriam usadas anonimamente e apenas com sua permissão.): Encontrada no df1, mas não no df2 \n",
      "\n",
      "- Você estaria disposto a conversar com um de nós mais extensivamente sobre suas experiências com problemas de saúde mental no setor de tecnologia?(Observe que todas as respostas da entrevista seriam usadas _Anonymly_ e somente com sua permissão.): Encontrada no df2, mas não no df1 \n",
      "\n",
      "- Se eles soubessem que você sofria de um distúrbio de saúde mental, como você acha que os membros da equipe/colegas de trabalho reagiriam?: Encontrada no df1, mas não no df2 \n",
      "\n",
      "\n",
      "2018/2021: \n",
      "\n",
      "Colunas que não são iguais: \n",
      "\n",
      "- Se você tem um distúrbio de saúde mental, com que frequência sente que isso interfere no seu trabalho quando não é tratado de maneira eficaz (ou seja, quando você está experimentando sintomas)?: Encontrada no df2, mas não no df1 \n",
      "\n",
      "- Se você tem um distúrbio de saúde mental, com que frequência sente que isso interfere no seu trabalho quando não é tratado de maneira eficaz (ou seja, quando está experimentando sintomas)?: Encontrada no df1, mas não no df2 \n",
      "\n",
      "- Se eles soubessem que você sofria de um distúrbio de saúde mental, como você acha que os membros da sua equipe/colegas de trabalho reagiriam?: Encontrada no df2, mas não no df1 \n",
      "\n",
      "- Você estaria disposto a conversar com um de nós mais extensivamente sobre suas experiências com problemas de saúde mental no setor de tecnologia?(Observe que todas as respostas da entrevista seriam usadas anonimamente e apenas com sua permissão.): Encontrada no df1, mas não no df2 \n",
      "\n",
      "- Você estaria disposto a conversar com um de nós mais extensivamente sobre suas experiências com problemas de saúde mental no setor de tecnologia?(Observe que todas as respostas da entrevista seriam usadas _Anonymly_ e somente com sua permissão.): Encontrada no df2, mas não no df1 \n",
      "\n",
      "- Se eles soubessem que você sofria de um distúrbio de saúde mental, como você acha que os membros da equipe/colegas de trabalho reagiriam?: Encontrada no df1, mas não no df2 \n",
      "\n",
      "\n",
      "2019/2020: \n",
      "\n",
      "Todos os nomes de colunas são iguais.\n",
      "\n",
      "2019/2021: \n",
      "\n",
      "Todos os nomes de colunas são iguais.\n",
      "\n",
      "2020/2021: \n",
      "\n",
      "Todos os nomes de colunas são iguais.\n",
      "\n"
     ]
    }
   ],
   "source": [
    "checar_cols(dfs=dfs)"
   ]
  },
  {
   "attachments": {},
   "cell_type": "markdown",
   "metadata": {},
   "source": [
    "Nota-se que apenas os anos de 2017 e 2018 que estão com poucas palavras trocadas. Possivelmente dada a tradução. \n",
    "\n",
    "Ajeitando:"
   ]
  },
  {
   "cell_type": "code",
   "execution_count": 17,
   "metadata": {},
   "outputs": [],
   "source": [
    "cols_rename = {\"Se você tem um distúrbio de saúde mental, com que frequência sente que isso interfere no seu trabalho quando não é tratado de maneira eficaz (ou seja, quando está experimentando sintomas)?\":\n",
    "                  \"Se você tem um distúrbio de saúde mental, com que frequência sente que isso interfere no seu trabalho quando não é tratado de maneira eficaz (ou seja, quando você está experimentando sintomas)?\",\n",
    "                  \"Se eles soubessem que você sofria de um distúrbio de saúde mental, como você acha que os membros da equipe/colegas de trabalho reagiriam?\":\n",
    "                  \"Se eles soubessem que você sofria de um distúrbio de saúde mental, como você acha que os membros da sua equipe/colegas de trabalho reagiriam?\",\n",
    "                  \"Você estaria disposto a conversar com um de nós mais extensivamente sobre suas experiências com problemas de saúde mental no setor de tecnologia?(Observe que todas as respostas da entrevista seriam usadas anonimamente e apenas com sua permissão.)\":\n",
    "                  \"Você estaria disposto a conversar com um de nós mais extensivamente sobre suas experiências com problemas de saúde mental no setor de tecnologia?(Observe que todas as respostas da entrevista seriam usadas _Anonymly_ e somente com sua permissão.)\"}\n",
    "\n",
    "# Refere-se ao df de 2018\n",
    "dfs[0].rename(columns=cols_rename, inplace=True)\n",
    "dfs[1].rename(columns=cols_rename, inplace=True)"
   ]
  },
  {
   "cell_type": "code",
   "execution_count": 18,
   "metadata": {},
   "outputs": [
    {
     "name": "stdout",
     "output_type": "stream",
     "text": [
      "2017/2018: \n",
      "\n",
      "Todos os nomes de colunas são iguais.\n",
      "\n",
      "2017/2019: \n",
      "\n",
      "Todos os nomes de colunas são iguais.\n",
      "\n",
      "2017/2020: \n",
      "\n",
      "Todos os nomes de colunas são iguais.\n",
      "\n",
      "2017/2021: \n",
      "\n",
      "Todos os nomes de colunas são iguais.\n",
      "\n",
      "2018/2019: \n",
      "\n",
      "Todos os nomes de colunas são iguais.\n",
      "\n",
      "2018/2020: \n",
      "\n",
      "Todos os nomes de colunas são iguais.\n",
      "\n",
      "2018/2021: \n",
      "\n",
      "Todos os nomes de colunas são iguais.\n",
      "\n",
      "2019/2020: \n",
      "\n",
      "Todos os nomes de colunas são iguais.\n",
      "\n",
      "2019/2021: \n",
      "\n",
      "Todos os nomes de colunas são iguais.\n",
      "\n",
      "2020/2021: \n",
      "\n",
      "Todos os nomes de colunas são iguais.\n",
      "\n"
     ]
    }
   ],
   "source": [
    "# Checando novamente\n",
    "checar_cols(dfs)"
   ]
  },
  {
   "attachments": {},
   "cell_type": "markdown",
   "metadata": {},
   "source": [
    "Agora é preciso verificar a ordem das colunas."
   ]
  },
  {
   "cell_type": "code",
   "execution_count": 19,
   "metadata": {},
   "outputs": [
    {
     "name": "stdout",
     "output_type": "stream",
     "text": [
      "As colunas estão ordenadas.\n"
     ]
    }
   ],
   "source": [
    "ordem_cols = verificar_ordem_colunas(dfs)\n",
    "if ordem_cols:\n",
    "    print('As colunas estão ordenadas.')"
   ]
  },
  {
   "attachments": {},
   "cell_type": "markdown",
   "metadata": {},
   "source": [
    "Por fim, verificando as seguintes informações sobre os dados:\n",
    "* Número de participantes por ano\n",
    "* Número de colunas por ano"
   ]
  },
  {
   "cell_type": "code",
   "execution_count": 20,
   "metadata": {},
   "outputs": [
    {
     "data": {
      "image/png": "[encoded data removed]",
      "text/plain": [
       "<Figure size 1000x1000 with 2 Axes>"
      ]
     },
     "metadata": {},
     "output_type": "display_data"
    }
   ],
   "source": [
    "output_path = 'informacoes_gerais.png'\n",
    "plot_data(dfs, output_path)"
   ]
  },
  {
   "attachments": {},
   "cell_type": "markdown",
   "metadata": {},
   "source": [
    "__O conjunto de arquivos está pronto para a próxima fase, pois as colunas estão padronizadas.__"
   ]
  },
  {
   "attachments": {},
   "cell_type": "markdown",
   "metadata": {},
   "source": [
    "### 1.2 Juntando os dados em um dataframe único\n",
    "\n",
    "Considerando que os arquivos estejam padronizados, é possível criar um único dataframe. No entanto, para evitar perda de informação, o ano será adicionado aos arquivos antes de serem mesclados."
   ]
  },
  {
   "attachments": {},
   "cell_type": "markdown",
   "metadata": {},
   "source": [
    "O ano pode ser utilizado como uma feature no treinamento do modelo. Referência: [link](https://towardsdatascience.com/make-your-machine-learning-model-work-better-with-datetime-features-eb21de397fe8)\n",
    "\n",
    "Como sabemos, a pandemia de COVID-19 afetou a saúde mental de muitas pessoas. Logo, talvez vejamos efeitos disso no modelo. É preciso, primeiro, analisar a consistência dos dados."
   ]
  },
  {
   "cell_type": "code",
   "execution_count": 21,
   "metadata": {},
   "outputs": [],
   "source": [
    "for i, df in enumerate(dfs):\n",
    "    year = 2017 + i\n",
    "    df['Ano'] = year\n",
    "    df['Ano'] = pd.to_datetime(df['Ano'], format='%Y')"
   ]
  },
  {
   "cell_type": "code",
   "execution_count": 22,
   "metadata": {},
   "outputs": [],
   "source": [
    "# Concatenando os dataframes em um só\n",
    "merged_df = pd.concat(dfs, ignore_index=True)\n",
    "\n",
    "# Salvando o novo dataframe\n",
    "output_dir = '../data/preprocessed_files/all_years'\n",
    "os.makedirs(output_dir, exist_ok=True)\n",
    "output_file = os.path.join(output_dir, 'mental_health.csv')\n",
    "merged_df.to_csv(output_file, index=False) "
   ]
  },
  {
   "attachments": {},
   "cell_type": "markdown",
   "metadata": {},
   "source": [
    "### 1.3 Analisando o conteúdo das colunas"
   ]
  },
  {
   "attachments": {},
   "cell_type": "markdown",
   "metadata": {},
   "source": [
    "Existem duas colunas que possuem conteúdo que são de discurso livre:\n",
    "\n",
    "* Descreva brevemente o que você acha que o setor como um todo e/ou empregadores poderia fazer para melhorar o apoio à saúde mental aos funcionários.\n",
    "* Você estaria disposto a conversar com um de nós mais extensivamente sobre suas experiências com problemas de saúde mental no setor de tecnologia?(Observe que todas as respostas da entrevista seriam usadas _Anonymly_ e somente com sua permissão.).\n",
    "\n",
    "A primeira será reservada em um dataframe específico para usar em Processamento de de Linguagem Natural (NLP).\n",
    "A segunda será excluída por não contribuir para a análise."
   ]
  },
  {
   "cell_type": "code",
   "execution_count": 23,
   "metadata": {},
   "outputs": [],
   "source": [
    "import os\n",
    "import pandas as pd\n",
    "\n",
    "# Carregando a base única dos dados\n",
    "df = pd.read_csv('../data/preprocessed_files/all_years/mental_health.csv')\n",
    "\n",
    "# Reservando o texto\n",
    "output_dir = '../data/nlp/'\n",
    "os.makedirs(output_dir, exist_ok=True)\n",
    "output_file = os.path.join(output_dir, 'mental_health_text.csv')\n",
    "df_text = df['Descreva brevemente o que você acha que o setor como um todo e/ou empregadores poderia fazer para melhorar o apoio à saúde mental aos funcionários.']\n",
    "df_text.dropna(inplace=True)\n",
    "df_text.to_csv(output_file, index=False)\n",
    "\n",
    "# Removendo a coluna\n",
    "df.drop(columns='Você estaria disposto a conversar com um de nós mais extensivamente sobre suas experiências com problemas de saúde mental no setor de tecnologia?(Observe que todas as respostas da entrevista seriam usadas _Anonymly_ e somente com sua permissão.)', inplace=True)\n"
   ]
  },
  {
   "cell_type": "code",
   "execution_count": 33,
   "metadata": {},
   "outputs": [
    {
     "data": {
      "text/plain": [
       "0       0\n",
       "1       0\n",
       "2       1\n",
       "3       0\n",
       "4       1\n",
       "       ..\n",
       "1831    1\n",
       "1832    0\n",
       "1833    1\n",
       "1834    1\n",
       "1835    0\n",
       "Name: Você estaria disposto a conversar com um de nós mais extensivamente sobre suas experiências com problemas de saúde mental no setor de tecnologia?(Observe que todas as respostas da entrevista seriam usadas _Anonymly_ e somente com sua permissão.), Length: 1836, dtype: object"
      ]
     },
     "execution_count": 33,
     "metadata": {},
     "output_type": "execute_result"
    }
   ],
   "source": [
    "merged_df['Você estaria disposto a conversar com um de nós mais extensivamente sobre suas experiências com problemas de saúde mental no setor de tecnologia?(Observe que todas as respostas da entrevista seriam usadas _Anonymly_ e somente com sua permissão.)']"
   ]
  },
  {
   "cell_type": "code",
   "execution_count": 36,
   "metadata": {},
   "outputs": [],
   "source": [
    "import os\n",
    "import sys\n",
    "import pandas as pd\n",
    "\n",
    "from utils import load_csv_files, plot_data\n",
    "\n",
    "def rename_columns(dfs):\n",
    "    try:\n",
    "        cols_rename = {\n",
    "            \"Se você tem um distúrbio de saúde mental, com que frequência sente que isso interfere no seu trabalho quando não é tratado de maneira eficaz (ou seja, quando está experimentando sintomas)?\":\n",
    "            \"Se você tem um distúrbio de saúde mental, com que frequência sente que isso interfere no seu trabalho quando não é tratado de maneira eficaz (ou seja, quando você está experimentando sintomas)?\",\n",
    "            \"Se eles soubessem que você sofria de um distúrbio de saúde mental, como você acha que os membros da equipe/colegas de trabalho reagiriam?\":\n",
    "            \"Se eles soubessem que você sofria de um distúrbio de saúde mental, como você acha que os membros da sua equipe/colegas de trabalho reagiriam?\",\n",
    "            \"Você estaria disposto a conversar com um de nós mais extensivamente sobre suas experiências com problemas de saúde mental no setor de tecnologia?(Observe que todas as respostas da entrevista seriam usadas anonimamente e apenas com sua permissão.)\":\n",
    "            \"Você estaria disposto a conversar com um de nós mais extensivamente sobre suas experiências com problemas de saúde mental no setor de tecnologia?(Observe que todas as respostas da entrevista seriam usadas _Anonymly_ e somente com sua permissão.)\"\n",
    "        }\n",
    "\n",
    "        for df in dfs[:2]:  # Apenas para os dois primeiros dataframes (2017 e 2018)\n",
    "            df.rename(columns=cols_rename, inplace=True)\n",
    "        return dfs\n",
    "\n",
    "    except Exception as e:\n",
    "        # Tratamento de erros\n",
    "        print(f\"Erro ao renomear colunas: {str(e)}\")\n",
    "        raise\n",
    "\n",
    "def add_year_column(dfs):\n",
    "    try:\n",
    "        for i, df in enumerate(dfs):\n",
    "            year = 2017 + i\n",
    "            df['Ano'] = year\n",
    "            df['Ano'] = pd.to_datetime(df['Ano'], format='%Y')\n",
    "        \n",
    "        return dfs\n",
    "\n",
    "    except Exception as e:\n",
    "        # Tratamento de erros\n",
    "        print(f\"Erro ao adicionar coluna de ano: {str(e)}\")\n",
    "        raise\n",
    "\n",
    "def save_merged_dataframe(merged_df, output_dir):\n",
    "    try:\n",
    "        os.makedirs(output_dir, exist_ok=True)\n",
    "        output_file = os.path.join(output_dir, 'mental_health.csv')\n",
    "        merged_df.to_csv(output_file, index=False)\n",
    "\n",
    "    except Exception as e:\n",
    "        # Tratamento de erros\n",
    "        print(f\"Erro ao salvar o dataframe mesclado: {str(e)}\")\n",
    "        raise\n",
    "\n",
    "def save_text_dataframe(df_text, output_dir):\n",
    "    try:\n",
    "        os.makedirs(output_dir, exist_ok=True)\n",
    "        output_file = os.path.join(output_dir, 'mental_health_text.csv')\n",
    "        df_text.to_csv(output_file, index=False)\n",
    "\n",
    "    except Exception as e:\n",
    "        # Tratamento de erros\n",
    "        print(f\"Erro ao salvar o dataframe de texto: {str(e)}\")\n",
    "        raise\n",
    "\n",
    "def process_data():\n",
    "    try:\n",
    "        # Carrega os dataframes já pré-processados na parte 1\n",
    "        file_paths = ['../data/preprocessed_files/2017/2017.csv',\n",
    "                      '../data/preprocessed_files/2018/2018.csv',\n",
    "                      '../data/preprocessed_files/2019/2019.csv',\n",
    "                      '../data/preprocessed_files/2020/2020.csv',\n",
    "                      '../data/preprocessed_files/2021/2021.csv']\n",
    "        dfs = load_csv_files(file_paths=file_paths)\n",
    "\n",
    "        # Renomear colunas\n",
    "        dfs = rename_columns(dfs)\n",
    "\n",
    "        # Salvar as informações gerais das colunas recém-padronizadas\n",
    "        output_path = 'informacoes_gerais.png'\n",
    "        plot_data(dfs, output_path)\n",
    "\n",
    "        # Adicionar coluna 'Ano'\n",
    "        dfs = add_year_column(dfs)\n",
    "\n",
    "        # Concatenando os dataframes em um só\n",
    "        merged_df = pd.concat(dfs, ignore_index=True)\n",
    "\n",
    "        # Remover coluna referente ao contato com a empresa de pesquisas\n",
    "        merged_df.drop(columns='Você estaria disposto a conversar com um de nós mais extensivamente sobre suas experiências com problemas de saúde mental no setor de tecnologia?(Observe que todas as respostas da entrevista seriam usadas _Anonymly_ e somente com sua permissão.)', inplace=True)\n",
    "\n",
    "        # Salvar o novo dataframe\n",
    "        output_dir = '../data/preprocessed_files/all_years'\n",
    "        save_merged_dataframe(merged_df, output_dir)\n",
    "\n",
    "        # Reservar o texto para análise NLP\n",
    "        df_text = merged_df['Descreva brevemente o que você acha que o setor como um todo e/ou empregadores poderia fazer para melhorar o apoio à saúde mental aos funcionários.']\n",
    "        df_text.dropna(inplace=True)\n",
    "\n",
    "        output_dir = '../data/nlp/'\n",
    "        save_text_dataframe(df_text, output_dir)\n",
    "\n",
    "\n",
    "    except Exception as e:\n",
    "        # Tratamento de erros\n",
    "        print(f\"Ocorreu um erro durante o processamento dos dados: {str(e)}\")\n",
    "        return None\n",
    "\n",
    "    print(\"Processamento dos dados concluído com sucesso!\")\n"
   ]
  },
  {
   "cell_type": "code",
   "execution_count": 37,
   "metadata": {},
   "outputs": [
    {
     "data": {
      "image/png": "[encoded data removed]",
      "text/plain": [
       "<Figure size 1000x1000 with 2 Axes>"
      ]
     },
     "metadata": {},
     "output_type": "display_data"
    },
    {
     "name": "stdout",
     "output_type": "stream",
     "text": [
      "Processamento dos dados concluído com sucesso!\n"
     ]
    }
   ],
   "source": [
    "process_data()"
   ]
  }
 ],
 "metadata": {
  "kernelspec": {
   "display_name": "Python 3",
   "language": "python",
   "name": "python3"
  },
  "language_info": {
   "codemirror_mode": {
    "name": "ipython",
    "version": 3
   },
   "file_extension": ".py",
   "mimetype": "text/x-python",
   "name": "python",
   "nbconvert_exporter": "python",
   "pygments_lexer": "ipython3",
   "version": "3.10.8"
  },
  "orig_nbformat": 4
 },
 "nbformat": 4,
 "nbformat_minor": 2
}
