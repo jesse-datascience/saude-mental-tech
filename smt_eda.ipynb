{
 "cells": [
  {
   "attachments": {},
   "cell_type": "markdown",
   "metadata": {},
   "source": [
    "## Ambiente Computacional"
   ]
  },
  {
   "cell_type": "code",
   "execution_count": 127,
   "metadata": {},
   "outputs": [],
   "source": [
    "import pandas as pd\n",
    "import numpy as np\n",
    "import seaborn as sns\n",
    "import matplotlib.pyplot as plt\n",
    "\n",
    "# Tradução dos dados para português\n",
    "from funcoes.eda.tradutor import traduz_cols\n",
    "\n",
    "# EDA\n",
    "from funcoes.eda.explorar_cols import explorar_cols\n",
    "from funcoes.eda.binario_info import binario_info\n",
    "from funcoes.eda.miss_zero_values import miss_zero_cols\n",
    "from funcoes.eda.drop_cols_50 import drop_cols_50_perc"
   ]
  },
  {
   "attachments": {},
   "cell_type": "markdown",
   "metadata": {},
   "source": [
    "## Exploração e Análise dos Dados\n",
    "\n",
    "Este notebook tem como objetivo tratar os dados brutos da pesquisa de saúde mental online realizada pela OSMI (Open Source Mental Illness). A pesquisa abrange o período de 2016 a 2021.\n",
    "\n",
    "Link da pesquisa original: https://osmihelp.org/research.html"
   ]
  },
  {
   "attachments": {},
   "cell_type": "markdown",
   "metadata": {},
   "source": [
    "## Organização\n",
    "\n",
    "Os dados serão avaliados por ano. As métricas de análise serão as mesmas para todo ano,mantendo a integridade dos dados.\n",
    "\n",
    "Abreviação: smt - Saúde Mental Tech"
   ]
  },
  {
   "attachments": {},
   "cell_type": "markdown",
   "metadata": {},
   "source": [
    "## 2016"
   ]
  },
  {
   "attachments": {},
   "cell_type": "markdown",
   "metadata": {},
   "source": [
    "### Carregamento da base"
   ]
  },
  {
   "cell_type": "code",
   "execution_count": 2,
   "metadata": {},
   "outputs": [],
   "source": [
    "arquivo_2016 = './input_data/osmi_smt_2016.csv'\n",
    "smt_2016_en = pd.read_csv(arquivo_2016)"
   ]
  },
  {
   "attachments": {},
   "cell_type": "markdown",
   "metadata": {},
   "source": [
    "### [Tradução da base](./funcoes/eda/tradutor.py)\n",
    "\n",
    "A base original veio é em inglês, logo a se faz necessária a tradução para o portugês."
   ]
  },
  {
   "cell_type": "code",
   "execution_count": 3,
   "metadata": {},
   "outputs": [],
   "source": [
    "smt_2016 = traduz_cols(smt_2016_en, destination_language='pt')"
   ]
  },
  {
   "attachments": {},
   "cell_type": "markdown",
   "metadata": {},
   "source": [
    "### Observações gerais"
   ]
  },
  {
   "cell_type": "code",
   "execution_count": 4,
   "metadata": {},
   "outputs": [
    {
     "data": {
      "text/html": [
       "<div>\n",
       "<style scoped>\n",
       "    .dataframe tbody tr th:only-of-type {\n",
       "        vertical-align: middle;\n",
       "    }\n",
       "\n",
       "    .dataframe tbody tr th {\n",
       "        vertical-align: top;\n",
       "    }\n",
       "\n",
       "    .dataframe thead th {\n",
       "        text-align: right;\n",
       "    }\n",
       "</style>\n",
       "<table border=\"1\" class=\"dataframe\">\n",
       "  <thead>\n",
       "    <tr style=\"text-align: right;\">\n",
       "      <th></th>\n",
       "      <th>Você é autônomo?</th>\n",
       "      <th>Quantos funcionários sua empresa ou organização possui?</th>\n",
       "      <th>Seu empregador é principalmente uma empresa/organização de tecnologia?</th>\n",
       "      <th>O seu papel principal na sua empresa está relacionado à tecnologia/TI?</th>\n",
       "      <th>O seu empregador oferece benefícios de saúde mental como parte da cobertura de saúde?</th>\n",
       "      <th>Você conhece as opções de cuidados de saúde mental disponíveis sob sua cobertura fornecida pelo empregador?</th>\n",
       "      <th>Seu empregador já discutiu formalmente a saúde mental (por exemplo, como parte de uma campanha de bem -estar ou outra comunicação oficial)?</th>\n",
       "      <th>O seu empregador oferece recursos para aprender mais sobre preocupações e opções de saúde mental para procurar ajuda?</th>\n",
       "      <th>O seu anonimato está protegido se você optar por aproveitar os recursos de tratamento de saúde mental ou abuso de substâncias fornecidos pelo seu empregador?</th>\n",
       "      <th>Se um problema de saúde mental o levasse a solicitar uma licença médica do trabalho, pedir que a licença seria:</th>\n",
       "      <th>...</th>\n",
       "      <th>Se você tem um problema de saúde mental, sente que isso interfere no seu trabalho ao ser tratado de maneira eficaz?</th>\n",
       "      <th>Se você tem um problema de saúde mental, sente que isso interfere no seu trabalho quando não é tratado de maneira eficaz?</th>\n",
       "      <th>Qual é a sua idade?</th>\n",
       "      <th>Qual é o seu gênero?</th>\n",
       "      <th>em que país você mora?</th>\n",
       "      <th>Em que estado ou território dos EUA você mora?</th>\n",
       "      <th>Em que país você trabalha?</th>\n",
       "      <th>Em que estado ou território dos EUA você trabalha?</th>\n",
       "      <th>Qual das opções a seguir melhor descreve sua posição de trabalho?</th>\n",
       "      <th>Você trabalha remotamente?</th>\n",
       "    </tr>\n",
       "  </thead>\n",
       "  <tbody>\n",
       "    <tr>\n",
       "      <th>0</th>\n",
       "      <td>0</td>\n",
       "      <td>26-100</td>\n",
       "      <td>1.0</td>\n",
       "      <td>NaN</td>\n",
       "      <td>Not eligible for coverage / N/A</td>\n",
       "      <td>NaN</td>\n",
       "      <td>No</td>\n",
       "      <td>No</td>\n",
       "      <td>I don't know</td>\n",
       "      <td>Very easy</td>\n",
       "      <td>...</td>\n",
       "      <td>Not applicable to me</td>\n",
       "      <td>Not applicable to me</td>\n",
       "      <td>39</td>\n",
       "      <td>Male</td>\n",
       "      <td>United Kingdom</td>\n",
       "      <td>NaN</td>\n",
       "      <td>United Kingdom</td>\n",
       "      <td>NaN</td>\n",
       "      <td>Back-end Developer</td>\n",
       "      <td>Sometimes</td>\n",
       "    </tr>\n",
       "    <tr>\n",
       "      <th>1</th>\n",
       "      <td>0</td>\n",
       "      <td>6-25</td>\n",
       "      <td>1.0</td>\n",
       "      <td>NaN</td>\n",
       "      <td>No</td>\n",
       "      <td>Yes</td>\n",
       "      <td>Yes</td>\n",
       "      <td>Yes</td>\n",
       "      <td>Yes</td>\n",
       "      <td>Somewhat easy</td>\n",
       "      <td>...</td>\n",
       "      <td>Rarely</td>\n",
       "      <td>Sometimes</td>\n",
       "      <td>29</td>\n",
       "      <td>male</td>\n",
       "      <td>United States of America</td>\n",
       "      <td>Illinois</td>\n",
       "      <td>United States of America</td>\n",
       "      <td>Illinois</td>\n",
       "      <td>Back-end Developer|Front-end Developer</td>\n",
       "      <td>Never</td>\n",
       "    </tr>\n",
       "    <tr>\n",
       "      <th>2</th>\n",
       "      <td>0</td>\n",
       "      <td>6-25</td>\n",
       "      <td>1.0</td>\n",
       "      <td>NaN</td>\n",
       "      <td>No</td>\n",
       "      <td>NaN</td>\n",
       "      <td>No</td>\n",
       "      <td>No</td>\n",
       "      <td>I don't know</td>\n",
       "      <td>Neither easy nor difficult</td>\n",
       "      <td>...</td>\n",
       "      <td>Not applicable to me</td>\n",
       "      <td>Not applicable to me</td>\n",
       "      <td>38</td>\n",
       "      <td>Male</td>\n",
       "      <td>United Kingdom</td>\n",
       "      <td>NaN</td>\n",
       "      <td>United Kingdom</td>\n",
       "      <td>NaN</td>\n",
       "      <td>Back-end Developer</td>\n",
       "      <td>Always</td>\n",
       "    </tr>\n",
       "    <tr>\n",
       "      <th>3</th>\n",
       "      <td>1</td>\n",
       "      <td>NaN</td>\n",
       "      <td>NaN</td>\n",
       "      <td>NaN</td>\n",
       "      <td>NaN</td>\n",
       "      <td>NaN</td>\n",
       "      <td>NaN</td>\n",
       "      <td>NaN</td>\n",
       "      <td>NaN</td>\n",
       "      <td>NaN</td>\n",
       "      <td>...</td>\n",
       "      <td>Sometimes</td>\n",
       "      <td>Sometimes</td>\n",
       "      <td>43</td>\n",
       "      <td>male</td>\n",
       "      <td>United Kingdom</td>\n",
       "      <td>NaN</td>\n",
       "      <td>United Kingdom</td>\n",
       "      <td>NaN</td>\n",
       "      <td>Supervisor/Team Lead</td>\n",
       "      <td>Sometimes</td>\n",
       "    </tr>\n",
       "    <tr>\n",
       "      <th>4</th>\n",
       "      <td>0</td>\n",
       "      <td>6-25</td>\n",
       "      <td>0.0</td>\n",
       "      <td>1.0</td>\n",
       "      <td>Yes</td>\n",
       "      <td>Yes</td>\n",
       "      <td>No</td>\n",
       "      <td>No</td>\n",
       "      <td>No</td>\n",
       "      <td>Neither easy nor difficult</td>\n",
       "      <td>...</td>\n",
       "      <td>Sometimes</td>\n",
       "      <td>Sometimes</td>\n",
       "      <td>43</td>\n",
       "      <td>Female</td>\n",
       "      <td>United States of America</td>\n",
       "      <td>Illinois</td>\n",
       "      <td>United States of America</td>\n",
       "      <td>Illinois</td>\n",
       "      <td>Executive Leadership|Supervisor/Team Lead|Dev ...</td>\n",
       "      <td>Sometimes</td>\n",
       "    </tr>\n",
       "  </tbody>\n",
       "</table>\n",
       "<p>5 rows × 63 columns</p>\n",
       "</div>"
      ],
      "text/plain": [
       "   Você é autônomo? Quantos funcionários sua empresa ou organização possui?   \n",
       "0                 0                                             26-100       \\\n",
       "1                 0                                               6-25        \n",
       "2                 0                                               6-25        \n",
       "3                 1                                                NaN        \n",
       "4                 0                                               6-25        \n",
       "\n",
       "   Seu empregador é principalmente uma empresa/organização de tecnologia?   \n",
       "0                                                1.0                       \\\n",
       "1                                                1.0                        \n",
       "2                                                1.0                        \n",
       "3                                                NaN                        \n",
       "4                                                0.0                        \n",
       "\n",
       "   O seu papel principal na sua empresa está relacionado à tecnologia/TI?   \n",
       "0                                                NaN                       \\\n",
       "1                                                NaN                        \n",
       "2                                                NaN                        \n",
       "3                                                NaN                        \n",
       "4                                                1.0                        \n",
       "\n",
       "  O seu empregador oferece benefícios de saúde mental como parte da cobertura de saúde?   \n",
       "0                    Not eligible for coverage / N/A                                     \\\n",
       "1                                                 No                                      \n",
       "2                                                 No                                      \n",
       "3                                                NaN                                      \n",
       "4                                                Yes                                      \n",
       "\n",
       "  Você conhece as opções de cuidados de saúde mental disponíveis sob sua cobertura fornecida pelo empregador?   \n",
       "0                                                NaN                                                           \\\n",
       "1                                                Yes                                                            \n",
       "2                                                NaN                                                            \n",
       "3                                                NaN                                                            \n",
       "4                                                Yes                                                            \n",
       "\n",
       "  Seu empregador já discutiu formalmente a saúde mental (por exemplo, como parte de uma campanha de bem -estar ou outra comunicação oficial)?   \n",
       "0                                                 No                                                                                           \\\n",
       "1                                                Yes                                                                                            \n",
       "2                                                 No                                                                                            \n",
       "3                                                NaN                                                                                            \n",
       "4                                                 No                                                                                            \n",
       "\n",
       "  O seu empregador oferece recursos para aprender mais sobre preocupações e opções de saúde mental para procurar ajuda?   \n",
       "0                                                 No                                                                     \\\n",
       "1                                                Yes                                                                      \n",
       "2                                                 No                                                                      \n",
       "3                                                NaN                                                                      \n",
       "4                                                 No                                                                      \n",
       "\n",
       "  O seu anonimato está protegido se você optar por aproveitar os recursos de tratamento de saúde mental ou abuso de substâncias fornecidos pelo seu empregador?   \n",
       "0                                       I don't know                                                                                                             \\\n",
       "1                                                Yes                                                                                                              \n",
       "2                                       I don't know                                                                                                              \n",
       "3                                                NaN                                                                                                              \n",
       "4                                                 No                                                                                                              \n",
       "\n",
       "  Se um problema de saúde mental o levasse a solicitar uma licença médica do trabalho, pedir que a licença seria:   \n",
       "0                                          Very easy                                                               \\\n",
       "1                                      Somewhat easy                                                                \n",
       "2                         Neither easy nor difficult                                                                \n",
       "3                                                NaN                                                                \n",
       "4                         Neither easy nor difficult                                                                \n",
       "\n",
       "   ...   \n",
       "0  ...  \\\n",
       "1  ...   \n",
       "2  ...   \n",
       "3  ...   \n",
       "4  ...   \n",
       "\n",
       "  Se você tem um problema de saúde mental, sente que isso interfere no seu trabalho ao ser tratado de maneira eficaz?   \n",
       "0                               Not applicable to me                                                                   \\\n",
       "1                                             Rarely                                                                    \n",
       "2                               Not applicable to me                                                                    \n",
       "3                                          Sometimes                                                                    \n",
       "4                                          Sometimes                                                                    \n",
       "\n",
       "  Se você tem um problema de saúde mental, sente que isso interfere no seu trabalho quando não é tratado de maneira eficaz?   \n",
       "0                               Not applicable to me                                                                         \\\n",
       "1                                          Sometimes                                                                          \n",
       "2                               Not applicable to me                                                                          \n",
       "3                                          Sometimes                                                                          \n",
       "4                                          Sometimes                                                                          \n",
       "\n",
       "  Qual é a sua idade? Qual é o seu gênero?    em que país você mora?   \n",
       "0                  39                 Male            United Kingdom  \\\n",
       "1                  29                 male  United States of America   \n",
       "2                  38                Male             United Kingdom   \n",
       "3                  43                 male            United Kingdom   \n",
       "4                  43               Female  United States of America   \n",
       "\n",
       "  Em que estado ou território dos EUA você mora?  Em que país você trabalha?   \n",
       "0                                            NaN              United Kingdom  \\\n",
       "1                                       Illinois    United States of America   \n",
       "2                                            NaN              United Kingdom   \n",
       "3                                            NaN              United Kingdom   \n",
       "4                                       Illinois    United States of America   \n",
       "\n",
       "  Em que estado ou território dos EUA você trabalha?   \n",
       "0                                                NaN  \\\n",
       "1                                           Illinois   \n",
       "2                                                NaN   \n",
       "3                                                NaN   \n",
       "4                                           Illinois   \n",
       "\n",
       "  Qual das opções a seguir melhor descreve sua posição de trabalho?   \n",
       "0                                 Back-end Developer                 \\\n",
       "1             Back-end Developer|Front-end Developer                  \n",
       "2                                 Back-end Developer                  \n",
       "3                               Supervisor/Team Lead                  \n",
       "4  Executive Leadership|Supervisor/Team Lead|Dev ...                  \n",
       "\n",
       "  Você trabalha remotamente?  \n",
       "0                  Sometimes  \n",
       "1                      Never  \n",
       "2                     Always  \n",
       "3                  Sometimes  \n",
       "4                  Sometimes  \n",
       "\n",
       "[5 rows x 63 columns]"
      ]
     },
     "execution_count": 4,
     "metadata": {},
     "output_type": "execute_result"
    }
   ],
   "source": [
    "smt_2016.head()"
   ]
  },
  {
   "cell_type": "code",
   "execution_count": 5,
   "metadata": {},
   "outputs": [
    {
     "name": "stdout",
     "output_type": "stream",
     "text": [
      "OSMI 2016\n",
      "Linhas: 1433\n",
      "Colunas: 63\n"
     ]
    }
   ],
   "source": [
    "# Tamanho da base\n",
    "print('OSMI 2016')\n",
    "print(f\"Linhas: {smt_2016.shape[0]}\")\n",
    "print(f\"Colunas: {smt_2016.shape[1]}\")"
   ]
  },
  {
   "attachments": {},
   "cell_type": "markdown",
   "metadata": {},
   "source": [
    "### Tratamento das colunas\n",
    "\n",
    "* Primeiramente, as colunas que apresentarem 50% ou mais de dados faltantes/nulos, serão excluídas. Usando [drop_cols_50.py](./funcoes/eda/drop_cols_50.py)\n",
    "\n",
    "* As colunas envolvendo a localidade dos EUA serão removidas. Não são de interesse, no momento.\n",
    "\n",
    "* Para as colunas restantes, devido ao caráter subjetivo das respostas, cada variável será analisada individualmente, e dependendo da natureza da pergunta, a variável poderá ser excluída ou mantida.\n",
    "\n",
    "* Caso seja necessário, serão aplicadas técnicas como exclusão, codificação, análise de valores discrepantes, entre outras.\n",
    "\n",
    "* Para facilitar o processo, as variáveis serão analisadas em grupos de 5, utilizando o arquivo [explorar_cols.py](./funcoes/eda/explorar_cols.py)."
   ]
  },
  {
   "attachments": {},
   "cell_type": "markdown",
   "metadata": {},
   "source": [
    "#### Exclusão das colunas com 50% ou mais de missings/nulls"
   ]
  },
  {
   "cell_type": "code",
   "execution_count": 6,
   "metadata": {},
   "outputs": [],
   "source": [
    "# Local do arquivo onde a lista de colunas excluídas será salva\n",
    "out_path = './output_data/eda/2016/droped_cols.txt'\n",
    "smt_2016 = drop_cols_50_perc(smt_2016, out_path)"
   ]
  },
  {
   "attachments": {},
   "cell_type": "markdown",
   "metadata": {},
   "source": [
    "13 colunas foram excluídas. Ver [arquivo](./output_data/eda/2016/droped_cols.txt)."
   ]
  },
  {
   "attachments": {},
   "cell_type": "markdown",
   "metadata": {},
   "source": [
    "#### Exclusão das colunas de localização (EUA)"
   ]
  },
  {
   "cell_type": "code",
   "execution_count": 128,
   "metadata": {},
   "outputs": [],
   "source": [
    "# Filtra as colunas que contêm 'EUA' no título\n",
    "cols_drop = smt_2016.filter(like='EUA').columns\n",
    "\n",
    "# Remove as colunas do DataFrame\n",
    "smt_2016.drop(columns=cols_drop, inplace=True)"
   ]
  },
  {
   "attachments": {},
   "cell_type": "markdown",
   "metadata": {},
   "source": [
    "#### Exclusão das colunas com 'por que'"
   ]
  },
  {
   "cell_type": "code",
   "execution_count": 129,
   "metadata": {},
   "outputs": [],
   "source": [
    "cols_drop = smt_2016.filter(like='Por que').columns\n",
    "\n",
    "smt_2016.drop(columns=cols_drop, inplace=True)"
   ]
  },
  {
   "attachments": {},
   "cell_type": "markdown",
   "metadata": {},
   "source": [
    "#### Colunas restantes"
   ]
  },
  {
   "cell_type": "code",
   "execution_count": 130,
   "metadata": {},
   "outputs": [],
   "source": [
    "# Local do arquivo onde a lista de colunas com missings será salva\n",
    "out_path = './output_data/eda/2016/missing_values.txt'\n",
    "miss_zero_cols(smt_2016, out_path, 'miss')"
   ]
  },
  {
   "attachments": {},
   "cell_type": "markdown",
   "metadata": {},
   "source": [
    "No [arquivo de valores faltantes ](./output_data/eda/2016/smt_2016_miss_values.txt), notamos que existem várias colunas com uma porcentagem de 20% de valores faltantes. \n",
    "\n",
    "Ao analisar quantas linhas são excluídas se todas esses valores forem ejetados dos dados, há uma perda de dados muito grande.\n",
    "\n",
    "*Caso seja necessário, este passo será revisto após a avaliação das métricas.* "
   ]
  },
  {
   "attachments": {},
   "cell_type": "markdown",
   "metadata": {},
   "source": [
    "### Grupo 1"
   ]
  },
  {
   "cell_type": "code",
   "execution_count": 45,
   "metadata": {},
   "outputs": [
    {
     "name": "stdout",
     "output_type": "stream",
     "text": [
      "Você é autônomo? (0.00% missing)\n",
      "Quantos funcionários sua empresa ou organização possui? (20.03% missing)\n",
      "Seu empregador é principalmente uma empresa/organização de tecnologia? (20.03% missing)\n",
      "O seu empregador oferece benefícios de saúde mental como parte da cobertura de saúde? (20.03% missing)\n",
      "Você conhece as opções de cuidados de saúde mental disponíveis sob sua cobertura fornecida pelo empregador? (29.31% missing)\n"
     ]
    }
   ],
   "source": [
    "col_index = [0,1,2,3,4]\n",
    "explorar_cols(smt_2016, col_index=col_index)"
   ]
  },
  {
   "attachments": {},
   "cell_type": "markdown",
   "metadata": {},
   "source": [
    "#### Coluna 0\n",
    "Você é autônomo?"
   ]
  },
  {
   "attachments": {},
   "cell_type": "markdown",
   "metadata": {},
   "source": [
    "Não há missing values."
   ]
  },
  {
   "cell_type": "code",
   "execution_count": null,
   "metadata": {},
   "outputs": [
    {
     "data": {
      "text/plain": [
       "Você é autônomo?\n",
       "0    1146\n",
       "1     287\n",
       "Name: count, dtype: int64"
      ]
     },
     "execution_count": 7,
     "metadata": {},
     "output_type": "execute_result"
    }
   ],
   "source": [
    "smt_2016.iloc[:, 0].value_counts()"
   ]
  },
  {
   "attachments": {},
   "cell_type": "markdown",
   "metadata": {},
   "source": [
    "Varíavel binária:\n",
    "\n",
    "* 0 = Não\n",
    "* 1 = Sim"
   ]
  },
  {
   "cell_type": "code",
   "execution_count": null,
   "metadata": {},
   "outputs": [
    {
     "name": "stdout",
     "output_type": "stream",
     "text": [
      "Porcentagem de NÃO: 79.97%\n",
      "Porcentagem de SIM: 20.03%\n"
     ]
    }
   ],
   "source": [
    "binario_info(smt_2016, 0)"
   ]
  },
  {
   "attachments": {},
   "cell_type": "markdown",
   "metadata": {},
   "source": [
    "#### Coluna 1\n",
    "Quantos funcionários sua empresa ou organização possui?\n",
    "* 20.03% de valores faltantes/nulos.\n",
    "* A coluna será excluída, pois não é de interesse no momento."
   ]
  },
  {
   "cell_type": "code",
   "execution_count": 47,
   "metadata": {},
   "outputs": [],
   "source": [
    "col_1 = 'Quantos funcionários sua empresa ou organização possui?'\n",
    "\n",
    "smt_2016.drop(columns=col_1, inplace=True)"
   ]
  },
  {
   "attachments": {},
   "cell_type": "markdown",
   "metadata": {},
   "source": [
    "#### Coluna 2\n",
    "\n",
    "Seu empregador é principalmente uma empresa/organização de tecnologia?\n",
    "* Essa coluna possui 20% de valores faltantes.\n",
    "* Os valores serão preenchidos aleatoriamente com valores 0 e 1."
   ]
  },
  {
   "cell_type": "code",
   "execution_count": null,
   "metadata": {},
   "outputs": [
    {
     "name": "stdout",
     "output_type": "stream",
     "text": [
      "Porcentagem de NÃO: 22.95%\n",
      "Porcentagem de SIM: 77.05%\n"
     ]
    }
   ],
   "source": [
    "binario_info(smt_2016, 2)"
   ]
  },
  {
   "cell_type": "code",
   "execution_count": 93,
   "metadata": {},
   "outputs": [
    {
     "data": {
      "text/plain": [
       "Seu empregador é principalmente uma empresa/organização de tecnologia?\n",
       "1.0    1042\n",
       "0.0     391\n",
       "Name: count, dtype: int64"
      ]
     },
     "execution_count": 93,
     "metadata": {},
     "output_type": "execute_result"
    }
   ],
   "source": [
    "# Preenchendo de forma aleatória\n",
    "col_2 = 'Seu empregador é principalmente uma empresa/organização de tecnologia?'\n",
    "smt_2016[col_2].fillna(pd.Series(np.random.randint(0, 2, size=smt_2016.shape[0])), inplace=True)"
   ]
  },
  {
   "attachments": {},
   "cell_type": "markdown",
   "metadata": {},
   "source": [
    "### Coluna 3\n",
    "* O seu empregador oferece benefícios de saúde mental como parte da cobertura de saúde? \n",
    "* 20.03% missing\n",
    "* Os missing serão preenchidos usando interpolação\n",
    "* Por se tratar de uma varíavel categórica, será feito 'one-encode'"
   ]
  },
  {
   "cell_type": "code",
   "execution_count": 125,
   "metadata": {},
   "outputs": [
    {
     "data": {
      "text/plain": [
       "Você conhece as opções de cuidados de saúde mental disponíveis sob sua cobertura fornecida pelo empregador?\n",
       "No               354\n",
       "I am not sure    352\n",
       "Yes              307\n",
       "Name: count, dtype: int64"
      ]
     },
     "execution_count": 125,
     "metadata": {},
     "output_type": "execute_result"
    }
   ],
   "source": [
    "smt_2016.iloc[:, 3].value_counts()"
   ]
  },
  {
   "cell_type": "code",
   "execution_count": 126,
   "metadata": {},
   "outputs": [
    {
     "data": {
      "text/plain": [
       "Você conhece as opções de cuidados de saúde mental disponíveis sob sua cobertura fornecida pelo empregador?\n",
       "I am not sure    508\n",
       "No               505\n",
       "Yes              419\n",
       "Name: count, dtype: int64"
      ]
     },
     "execution_count": 126,
     "metadata": {},
     "output_type": "execute_result"
    }
   ],
   "source": [
    "s_ = s.interpolate(method='pad')\n",
    "\n",
    "s_.value_counts()"
   ]
  }
 ],
 "metadata": {
  "kernelspec": {
   "display_name": "Python 3",
   "language": "python",
   "name": "python3"
  },
  "language_info": {
   "codemirror_mode": {
    "name": "ipython",
    "version": 3
   },
   "file_extension": ".py",
   "mimetype": "text/x-python",
   "name": "python",
   "nbconvert_exporter": "python",
   "pygments_lexer": "ipython3",
   "version": "3.10.8"
  },
  "orig_nbformat": 4
 },
 "nbformat": 4,
 "nbformat_minor": 2
}
